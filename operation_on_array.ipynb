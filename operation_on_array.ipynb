{
 "cells": [
  {
   "cell_type": "code",
   "execution_count": 11,
   "id": "895fa683-bdc3-4bc2-ac43-9e46e00f451c",
   "metadata": {},
   "outputs": [
    {
     "name": "stdout",
     "output_type": "stream",
     "text": [
      "[1 2 3 4 5]\n",
      "<class 'numpy.ndarray'>\n"
     ]
    }
   ],
   "source": [
    "# import numpy\n",
    "\n",
    "# decleare the array\n",
    "array = numpy.array([1, 2, 3, 4, 5])\n",
    "print(array)\n",
    "\n",
    "print(type(array))"
   ]
  },
  {
   "cell_type": "code",
   "execution_count": 14,
   "id": "e9f2c126-514d-448d-b2f7-b1c4c4e6fd9b",
   "metadata": {},
   "outputs": [
    {
     "name": "stdout",
     "output_type": "stream",
     "text": [
      "[10 20 30 40]\n"
     ]
    }
   ],
   "source": [
    "# pass the tuple in the array\n",
    "array = numpy.array((10, 20, 30, 40)) \n",
    "print(array)"
   ]
  },
  {
   "cell_type": "code",
   "execution_count": 15,
   "id": "2b700d2f-32db-4e1a-9e77-7c35fca49465",
   "metadata": {},
   "outputs": [
    {
     "name": "stdout",
     "output_type": "stream",
     "text": [
      "[90 80 70 60]\n"
     ]
    }
   ],
   "source": [
    "# pass the list in tuple\n",
    "array = numpy.array([90, 80, 70, 60])\n",
    "print(array)"
   ]
  },
  {
   "cell_type": "code",
   "execution_count": 17,
   "id": "0aaceebc-d179-4121-8574-87644848a5cf",
   "metadata": {},
   "outputs": [
    {
     "name": "stdout",
     "output_type": "stream",
     "text": [
      "80\n"
     ]
    }
   ],
   "source": [
    "# 0-D array\n",
    "array = numpy.array(80)\n",
    "print(array)"
   ]
  },
  {
   "cell_type": "code",
   "execution_count": 19,
   "id": "30a044f4-a9b4-4526-88fc-6e581027bf6a",
   "metadata": {},
   "outputs": [
    {
     "name": "stdout",
     "output_type": "stream",
     "text": [
      "['ankit' 'sourabh' 'rishabh' 'Shrawan']\n"
     ]
    }
   ],
   "source": [
    "# 1-D array\n",
    "array = numpy.array([\"ankit\", \"sourabh\", \"rishabh\", \"Shrawan\"])\n",
    "print(array)"
   ]
  },
  {
   "cell_type": "code",
   "execution_count": 20,
   "id": "40859a97-09a3-4857-bb78-6816ff73ba58",
   "metadata": {
    "collapsed": true,
    "jupyter": {
     "outputs_hidden": true
    }
   },
   "outputs": [
    {
     "name": "stdout",
     "output_type": "stream",
     "text": [
      "[[1 2 3]\n",
      " [4 5 6]\n",
      " [7 8 9]]\n"
     ]
    }
   ],
   "source": [
    "# 2-D array\n",
    "array = numpy.array([[1, 2, 3], [4, 5, 6], [7, 8, 9]])\n",
    "print(array)"
   ]
  },
  {
   "cell_type": "code",
   "execution_count": 21,
   "id": "b27ad515-1330-446c-9872-0727d46d172d",
   "metadata": {},
   "outputs": [
    {
     "name": "stdout",
     "output_type": "stream",
     "text": [
      "[[[1 2 3]\n",
      "  [4 5 6]\n",
      "  [7 8 9]]]\n"
     ]
    }
   ],
   "source": [
    "# 3-D array\n",
    "array = numpy.array([[[1, 2, 3], [4, 5, 6], [7, 8, 9]]])\n",
    "print(array)"
   ]
  },
  {
   "cell_type": "code",
   "execution_count": 22,
   "id": "4203cdbb-3232-4297-881d-ba05c1fc918f",
   "metadata": {},
   "outputs": [
    {
     "name": "stdout",
     "output_type": "stream",
     "text": [
      "0\n",
      "1\n",
      "2\n",
      "3\n"
     ]
    }
   ],
   "source": [
    "# ndim is a attribute that gives us how many diantions of the array\n",
    "\n",
    "import numpy as np\n",
    "\n",
    "a = np.array(42)\n",
    "b = np.array([1, 2, 3, 4, 5])\n",
    "c = np.array([[1, 2, 3], [4, 5, 6]])\n",
    "d = np.array([[[1, 2, 3], [4, 5, 6]], [[1, 2, 3], [4, 5, 6]]])\n",
    "\n",
    "print(a.ndim) # 0-D\n",
    "print(b.ndim) # 1-D\n",
    "print(c.ndim) # 2-D\n",
    "print(d.ndim) # 3-D"
   ]
  },
  {
   "cell_type": "code",
   "execution_count": 24,
   "id": "23d07c1e-d8ad-48fd-a96b-78b387bc2e22",
   "metadata": {},
   "outputs": [
    {
     "name": "stdout",
     "output_type": "stream",
     "text": [
      "[[[[[10 20 30 40]]]]]\n",
      "Dimntions:  5\n"
     ]
    }
   ],
   "source": [
    "import numpy as np\n",
    "arr1 = np.array([10, 20, 30, 40], ndmin = 5)\n",
    "\n",
    "print(arr1)\n",
    "print(\"Dimntions: \", arr1.ndim)"
   ]
  },
  {
   "cell_type": "code",
   "execution_count": 27,
   "id": "d5ca2fbc-a6cb-496f-bbd3-219915b604ec",
   "metadata": {},
   "outputs": [
    {
     "name": "stdout",
     "output_type": "stream",
     "text": [
      "10\n"
     ]
    }
   ],
   "source": [
    "import numpy as np\n",
    "\n",
    "# access array element by the index\n",
    "array = np.array([10, 20, 30, 40])\n",
    "print(array[0])\n"
   ]
  },
  {
   "cell_type": "code",
   "execution_count": 28,
   "id": "686d4748-290c-4019-9c22-7d4a8c895c27",
   "metadata": {},
   "outputs": [
    {
     "name": "stdout",
     "output_type": "stream",
     "text": [
      "50\n"
     ]
    }
   ],
   "source": [
    "import numpy as np\n",
    "\n",
    "# access two element and add\n",
    "arrray = np.array([10, 20, 30, 40])\n",
    "print(array[0] + array[3])"
   ]
  },
  {
   "cell_type": "code",
   "execution_count": 38,
   "id": "77ca2e1e-126e-4b44-9005-4cfa6cef32f4",
   "metadata": {},
   "outputs": [
    {
     "name": "stdout",
     "output_type": "stream",
     "text": [
      "2\n",
      "8\n"
     ]
    }
   ],
   "source": [
    "import numpy as np\n",
    "\n",
    "# access element from 2-D array\n",
    "array = np.array([[1, 2, 3], [4, 5, 6], [7, 8, 9]])\n",
    "print(array[0, 1])\n",
    "\n",
    "import numpy as np\n",
    "\n",
    "# access element from 3-D array\n",
    "array1 = np.array([[[1, 2, 3], [4, 5, 6], [7, 8, 9]]])\n",
    "print(array1[0, 2, 1])"
   ]
  },
  {
   "cell_type": "code",
   "execution_count": 34,
   "id": "e24ff109-28cf-4493-af5e-d53b3a8c4703",
   "metadata": {},
   "outputs": [
    {
     "name": "stdout",
     "output_type": "stream",
     "text": [
      "8\n"
     ]
    }
   ],
   "source": [
    "import numpy as np\n",
    "\n",
    "arr = np.array([[[1, 2, 3], [4, 5, 6]], [[7, 8, 9], [10, 11, 12]]])\n",
    "\n",
    "print(arr[1, 0, 1])"
   ]
  },
  {
   "cell_type": "code",
   "execution_count": 40,
   "id": "386c4ca5-05ba-4f29-9162-63da05965ff7",
   "metadata": {},
   "outputs": [
    {
     "name": "stdout",
     "output_type": "stream",
     "text": [
      "Last element from 2nd dim:  9\n"
     ]
    }
   ],
   "source": [
    "# nagative indexing\n",
    "\n",
    "import numpy as np\n",
    "\n",
    "arr = np.array([[1,2,3,4,5], [6,7,8,9,10]])\n",
    "\n",
    "print('Last element from 2nd dim: ', arr[1, -2])"
   ]
  },
  {
   "cell_type": "code",
   "execution_count": 46,
   "id": "8ce4329d-b70b-45ff-805d-5b331aaf20fc",
   "metadata": {},
   "outputs": [
    {
     "name": "stdout",
     "output_type": "stream",
     "text": [
      "sclicing [10 20]\n"
     ]
    }
   ],
   "source": [
    "import numpy as np\n",
    "\n",
    "# sclicing on the array\n",
    "arr = np.array([10, 20, 30, 40])\n",
    "print(\"sclicing\", arr[0:2])"
   ]
  },
  {
   "cell_type": "code",
   "execution_count": 48,
   "id": "875c7f22-5caa-48db-a9c7-22027afa0e90",
   "metadata": {},
   "outputs": [
    {
     "name": "stdout",
     "output_type": "stream",
     "text": [
      "sclicing [5 6]\n"
     ]
    }
   ],
   "source": [
    "import numpy as np\n",
    "\n",
    "# nagative sclicing on the array\n",
    "arr = np.array([1, 2, 3, 4, 5, 6, 7])\n",
    "print(\"sclicing\", arr[-3:-1])"
   ]
  },
  {
   "cell_type": "code",
   "execution_count": 2,
   "id": "fdfdd6d7-c9d8-43b3-b794-dfcbc96885d0",
   "metadata": {},
   "outputs": [
    {
     "name": "stdout",
     "output_type": "stream",
     "text": [
      "[2 4 6]\n"
     ]
    }
   ],
   "source": [
    "import numpy as np\n",
    "\n",
    "arr = np.array([1, 2, 3, 4, 5, 6, 7])\n",
    "\n",
    "print(arr[1:6:2])"
   ]
  },
  {
   "cell_type": "code",
   "execution_count": 1,
   "id": "617743ed-79a3-48a8-9374-d492ee08ed5d",
   "metadata": {},
   "outputs": [
    {
     "name": "stdout",
     "output_type": "stream",
     "text": [
      "[1 2 3 4 5 6]\n"
     ]
    }
   ],
   "source": [
    "import numpy as np \n",
    "\n",
    "arr = np.array([1, 2, 3, 4, 5, 6])\n",
    "print(arr)"
   ]
  },
  {
   "cell_type": "code",
   "execution_count": 5,
   "id": "5ce23f52-4562-47b3-a422-2866be3cef5e",
   "metadata": {},
   "outputs": [
    {
     "name": "stdout",
     "output_type": "stream",
     "text": [
      "[[1 2 3]\n",
      " [4 5 6]\n",
      " [7 8 9]]\n",
      "3\n",
      "4\n"
     ]
    }
   ],
   "source": [
    "import numpy as np \n",
    "\n",
    "arr = np.array([[1, 2, 3], [4, 5, 6], [7, 8, 9]])\n",
    "print(arr)\n",
    "\n",
    "print(arr[0, 2])\n",
    "\n",
    "print(arr[1, 0])"
   ]
  },
  {
   "cell_type": "code",
   "execution_count": 8,
   "id": "1d1f3b94-9f6d-4145-a173-49a2dc0619e3",
   "metadata": {},
   "outputs": [
    {
     "name": "stdout",
     "output_type": "stream",
     "text": [
      "Second Row:\n",
      "[5 6 7 8]\n"
     ]
    }
   ],
   "source": [
    "import numpy as np\n",
    "\n",
    "arr = np.array([[1,  2,  3,  4],\n",
    "                [5,  6,  7,  8],\n",
    "                [9, 10, 11, 12],\n",
    "                [13, 14, 15, 16]])\n",
    "\n",
    "second_row = arr[1]\n",
    "print(\"Second Row:\")\n",
    "print(second_row)"
   ]
  },
  {
   "cell_type": "code",
   "execution_count": 9,
   "id": "c4fab90e-f8ec-46aa-bacf-3379baad8933",
   "metadata": {},
   "outputs": [
    {
     "name": "stdout",
     "output_type": "stream",
     "text": [
      "21\n"
     ]
    }
   ],
   "source": [
    "import numpy as np \n",
    "\n",
    "arr = np.array([1, 2, 3, 4, 5, 6])\n",
    "sum1 = np.sum(arr)\n",
    "print(sum1)"
   ]
  },
  {
   "cell_type": "code",
   "execution_count": 11,
   "id": "5a8f2c2c-2083-40a4-95cc-a4c480e6e9a8",
   "metadata": {},
   "outputs": [
    {
     "name": "stdout",
     "output_type": "stream",
     "text": [
      "78\n"
     ]
    }
   ],
   "source": [
    "import numpy as np\n",
    "\n",
    "arr = np.array([[1,  2,  3,  4],\n",
    "                [5,  6,  7,  8],\n",
    "                [9, 10, 11, 12]])\n",
    "\n",
    "# Your code to compute the sum of all elements in arr goes here\n",
    "sum2 = np.sum(arr)\n",
    "print(sum2)"
   ]
  },
  {
   "cell_type": "code",
   "execution_count": 13,
   "id": "6ce70530-372c-417e-ad1e-a507d3ee3abf",
   "metadata": {},
   "outputs": [
    {
     "name": "stdout",
     "output_type": "stream",
     "text": [
      "[1 2 3 4 5]\n"
     ]
    }
   ],
   "source": [
    "# create 1D array\n",
    "\n",
    "import numpy as np\n",
    "arr = np.array([1, 2, 3, 4, 5])\n",
    "print(arr)"
   ]
  },
  {
   "cell_type": "code",
   "execution_count": 14,
   "id": "e1652623-bfbf-4bd1-82e5-3a99fdd263f6",
   "metadata": {},
   "outputs": [
    {
     "name": "stdout",
     "output_type": "stream",
     "text": [
      "3\n"
     ]
    }
   ],
   "source": [
    "# Access elemenet\n",
    "\n",
    "import numpy as np\n",
    "arr = np.array([1, 2, 3, 4, 5])\n",
    "print(arr[2])"
   ]
  },
  {
   "cell_type": "code",
   "execution_count": 48,
   "id": "97e19765-f321-4e4a-82b6-66d22d6e8d21",
   "metadata": {},
   "outputs": [
    {
     "name": "stdout",
     "output_type": "stream",
     "text": [
      "[3 4]\n"
     ]
    }
   ],
   "source": [
    "# sclicing\n",
    "\n",
    "import numpy as np\n",
    "arr = np.array([1, 2, 3, 4, 5])\n",
    "print(arr[2 : 4])"
   ]
  },
  {
   "cell_type": "code",
   "execution_count": 16,
   "id": "a9054c05-98e4-4bda-bca5-e90b4dabff40",
   "metadata": {},
   "outputs": [
    {
     "name": "stdout",
     "output_type": "stream",
     "text": [
      "1\n",
      "2\n",
      "3\n",
      "4\n",
      "5\n"
     ]
    }
   ],
   "source": [
    "# iterate with for loop\n",
    "\n",
    "import numpy as np\n",
    "arr = np.array([1, 2, 3, 4, 5])\n",
    "\n",
    "for i in arr:\n",
    "    print(i)"
   ]
  },
  {
   "cell_type": "code",
   "execution_count": 17,
   "id": "9912afc0-3c2c-4920-979c-c3390bc4913b",
   "metadata": {},
   "outputs": [
    {
     "name": "stdout",
     "output_type": "stream",
     "text": [
      "5\n"
     ]
    }
   ],
   "source": [
    "# find length\n",
    "\n",
    "import numpy as np\n",
    "arr = np.array([1, 2, 3, 4, 5])\n",
    "\n",
    "print(len(arr))"
   ]
  },
  {
   "cell_type": "code",
   "execution_count": 21,
   "id": "9ec177cb-5aad-47dc-ab41-61523f97730c",
   "metadata": {},
   "outputs": [
    {
     "name": "stdout",
     "output_type": "stream",
     "text": [
      "2\n",
      "4\n"
     ]
    }
   ],
   "source": [
    "# find even number\n",
    "\n",
    "import numpy as np\n",
    "arr = np.array([1, 2, 3, 4, 5])\n",
    "\n",
    "for i in arr:\n",
    "    if i % 2 == 0:\n",
    "        print(i)\n",
    "    "
   ]
  },
  {
   "cell_type": "code",
   "execution_count": 22,
   "id": "d2be1533-0056-4027-997c-8f1179453aee",
   "metadata": {},
   "outputs": [
    {
     "name": "stdout",
     "output_type": "stream",
     "text": [
      "1\n",
      "2\n",
      "3\n",
      "4\n",
      "5\n"
     ]
    }
   ],
   "source": [
    "# iterate with while loop\n",
    "\n",
    "import numpy as np\n",
    "arr = np.array([1, 2, 3, 4, 5])\n",
    "i = 0\n",
    "\n",
    "while i < len(arr):\n",
    "    print(arr[i])\n",
    "    i += 1\n",
    "    "
   ]
  },
  {
   "cell_type": "code",
   "execution_count": 54,
   "id": "131e5d17-7301-49e8-ba72-862cdbf7dbd8",
   "metadata": {},
   "outputs": [
    {
     "name": "stdout",
     "output_type": "stream",
     "text": [
      "[10 11 12  1  2  3]\n"
     ]
    }
   ],
   "source": [
    "# insert new element in array\n",
    "\n",
    "import numpy as np\n",
    "arr = np.array([1, 2, 3])\n",
    "\n",
    "new_row = np.array([10, 11, 12])\n",
    "arr_with_new_row = np.insert(arr, 0, new_row, axis=0)\n",
    "print(arr_with_new_row)"
   ]
  },
  {
   "cell_type": "code",
   "execution_count": 56,
   "id": "50e2174a-2945-4e63-9d6c-7a1426dd3564",
   "metadata": {},
   "outputs": [
    {
     "name": "stdout",
     "output_type": "stream",
     "text": [
      "[2 3 4 5]\n"
     ]
    }
   ],
   "source": [
    "# insert new element in array\n",
    "\n",
    "import numpy as np\n",
    "arr = np.array([1, 2, 3, 4, 5])\n",
    "\n",
    "arr_with_delete_column = np.delete(arr, 0)\n",
    "print(arr_with_delete_column)"
   ]
  },
  {
   "cell_type": "code",
   "execution_count": 23,
   "id": "728bbb7a-36c3-4141-9706-7a3466d909d8",
   "metadata": {},
   "outputs": [
    {
     "name": "stdout",
     "output_type": "stream",
     "text": [
      "[[1 2 3]\n",
      " [4 5 6]\n",
      " [7 8 9]]\n"
     ]
    }
   ],
   "source": [
    "# create 2D array\n",
    "\n",
    "import numpy as np\n",
    "arr = np.array([\n",
    "    [1, 2, 3],\n",
    "    [4, 5, 6],\n",
    "    [7, 8, 9]\n",
    "])\n",
    "print(arr)"
   ]
  },
  {
   "cell_type": "code",
   "execution_count": 25,
   "id": "07b39f89-16c4-4e41-a28e-c8e81f6da849",
   "metadata": {},
   "outputs": [
    {
     "name": "stdout",
     "output_type": "stream",
     "text": [
      "3\n",
      "7\n"
     ]
    }
   ],
   "source": [
    "# access element\n",
    "\n",
    "import numpy as np\n",
    "arr = np.array([\n",
    "    [1, 2, 3],\n",
    "    [4, 5, 6],\n",
    "    [7, 8, 9]\n",
    "])\n",
    "print(arr[0, 2])\n",
    "print(arr[2, 0])"
   ]
  },
  {
   "cell_type": "code",
   "execution_count": 29,
   "id": "623d0ea9-da1d-42d8-be4b-ef58e7713268",
   "metadata": {},
   "outputs": [
    {
     "name": "stdout",
     "output_type": "stream",
     "text": [
      "[1 2]\n",
      "[8 9]\n"
     ]
    }
   ],
   "source": [
    "# sclicing\n",
    "\n",
    "import numpy as np\n",
    "arr = np.array([\n",
    "    [1, 2, 3],\n",
    "    [4, 5, 6],\n",
    "    [7, 8, 9]\n",
    "])\n",
    "print(arr[0, 0 : 2])\n",
    "print(arr[2, 1 : 3])"
   ]
  },
  {
   "cell_type": "code",
   "execution_count": 47,
   "id": "ef9d85f6-1dd4-44bf-914c-94390133bd08",
   "metadata": {},
   "outputs": [
    {
     "name": "stdout",
     "output_type": "stream",
     "text": [
      "[3 6]\n"
     ]
    }
   ],
   "source": [
    "# sclicing\n",
    "\n",
    "import numpy as np\n",
    "arr = np.array([\n",
    "    [1, 2, 3],\n",
    "    [4, 5, 6],\n",
    "    [7, 8, 9]\n",
    "])\n",
    "print(arr[0 : 2, 2])\n",
    "# print(arr[2, 1 : 3])"
   ]
  },
  {
   "cell_type": "code",
   "execution_count": 30,
   "id": "82c37ff5-9705-47f9-91c7-51fd509c42ca",
   "metadata": {},
   "outputs": [
    {
     "name": "stdout",
     "output_type": "stream",
     "text": [
      "[1 2 3]\n",
      "[4 5 6]\n",
      "[7 8 9]\n"
     ]
    }
   ],
   "source": [
    "# iterate by for loop\n",
    "\n",
    "import numpy as np\n",
    "arr = np.array([\n",
    "    [1, 2, 3],\n",
    "    [4, 5, 6],\n",
    "    [7, 8, 9]\n",
    "])\n",
    "\n",
    "for i in arr:\n",
    "    print(i)"
   ]
  },
  {
   "cell_type": "code",
   "execution_count": 31,
   "id": "a1ec1d18-21c1-475e-a5f6-27a5b4c0c6e2",
   "metadata": {},
   "outputs": [
    {
     "name": "stdout",
     "output_type": "stream",
     "text": [
      "2\n",
      "4\n",
      "6\n",
      "8\n"
     ]
    }
   ],
   "source": [
    "# even number by for loop\n",
    "\n",
    "import numpy as np\n",
    "arr = np.array([\n",
    "    [1, 2, 3],\n",
    "    [4, 5, 6],\n",
    "    [7, 8, 9]\n",
    "])\n",
    "\n",
    "for i in arr:\n",
    "    for j in i:\n",
    "        if j % 2 == 0:\n",
    "            print(j)"
   ]
  },
  {
   "cell_type": "code",
   "execution_count": 38,
   "id": "1e4c8ff1-1284-4026-a139-369edd4d7736",
   "metadata": {},
   "outputs": [
    {
     "name": "stdout",
     "output_type": "stream",
     "text": [
      "1\n",
      "2\n",
      "3\n",
      "4\n",
      "5\n",
      "6\n",
      "7\n",
      "8\n",
      "9\n"
     ]
    }
   ],
   "source": [
    "# iterate by while loop\n",
    "\n",
    "import numpy as np\n",
    "arr = np.array([\n",
    "    [1, 2, 3],\n",
    "    [4, 5, 6],\n",
    "    [7, 8, 9]\n",
    "])\n",
    "\n",
    "i = 0\n",
    "while i < len(arr):\n",
    "    for j in arr[i]:\n",
    "        print(j)\n",
    "    i += 1\n"
   ]
  },
  {
   "cell_type": "code",
   "execution_count": 42,
   "id": "9c169474-b591-423e-a51e-eada0ffee034",
   "metadata": {},
   "outputs": [
    {
     "name": "stdout",
     "output_type": "stream",
     "text": [
      "[[ 1  2  3]\n",
      " [ 4  5  6]\n",
      " [ 7  8  9]\n",
      " [10 11 12]]\n"
     ]
    }
   ],
   "source": [
    "# insert new row\n",
    "\n",
    "import numpy as np\n",
    "arr = np.array([\n",
    "    [1, 2, 3],\n",
    "    [4, 5, 6],\n",
    "    [7, 8, 9]\n",
    "])\n",
    "\n",
    "new_row = np.array([10, 11, 12])\n",
    "arr_with_new_row = np.insert(arr, 3, new_row, axis = 0)\n",
    "print(arr_with_new_row)\n",
    "\n",
    "            "
   ]
  },
  {
   "cell_type": "code",
   "execution_count": 49,
   "id": "909383cc-6546-4e16-b388-9741cf1a6519",
   "metadata": {},
   "outputs": [
    {
     "name": "stdout",
     "output_type": "stream",
     "text": [
      "[[ 1  2  3 10]\n",
      " [ 4  5  6 11]\n",
      " [ 7  8  9 12]]\n"
     ]
    }
   ],
   "source": [
    "# insert new coloumn\n",
    "\n",
    "import numpy as np\n",
    "arr = np.array([\n",
    "    [1, 2, 3],\n",
    "    [4, 5, 6],\n",
    "    [7, 8, 9]\n",
    "])\n",
    "\n",
    "new_column = np.array([10, 11, 12])\n",
    "arr_with_new_row = np.insert(arr, 3, new_row, axis = 1)\n",
    "print(arr_with_new_row)\n",
    "\n",
    "            "
   ]
  },
  {
   "cell_type": "code",
   "execution_count": 53,
   "id": "875dddd6-f31d-4cc0-8a26-2822cede57bd",
   "metadata": {},
   "outputs": [
    {
     "name": "stdout",
     "output_type": "stream",
     "text": [
      "[[1 2]\n",
      " [4 5]\n",
      " [7 8]]\n"
     ]
    }
   ],
   "source": [
    "# delete coloumn\n",
    "\n",
    "import numpy as np\n",
    "arr = np.array([\n",
    "    [1, 2, 3],\n",
    "    [4, 5, 6],\n",
    "    [7, 8, 9]\n",
    "])\n",
    "\n",
    "arr_with_delete_coloumn = np.delete(arr, 2, axis = 1)\n",
    "print(arr_with_delete_coloumn)\n",
    "\n",
    "            "
   ]
  },
  {
   "cell_type": "code",
   "execution_count": 57,
   "id": "6a57b213-72ce-44d2-a30b-e4ab89dcea69",
   "metadata": {},
   "outputs": [
    {
     "name": "stdout",
     "output_type": "stream",
     "text": [
      "[[1 2 3]\n",
      " [4 5 6]]\n"
     ]
    }
   ],
   "source": [
    "# delete row\n",
    "\n",
    "import numpy as np\n",
    "arr = np.array([\n",
    "    [1, 2, 3],\n",
    "    [4, 5, 6],\n",
    "    [7, 8, 9]\n",
    "])\n",
    "\n",
    "arr_with_delete_row = np.delete(arr, 2, axis = 0)\n",
    "print(arr_with_delete_row)\n",
    "            "
   ]
  },
  {
   "cell_type": "code",
   "execution_count": 58,
   "id": "b76208eb-4c4f-404e-984d-aa4a4aec109f",
   "metadata": {},
   "outputs": [
    {
     "name": "stdout",
     "output_type": "stream",
     "text": [
      "[[[1 2 3]\n",
      "  [4 5 6]\n",
      "  [7 8 9]]]\n"
     ]
    }
   ],
   "source": [
    "# create a 3D array\n",
    "import numpy as np\n",
    "arr = np.array([[\n",
    "    [1, 2, 3],\n",
    "    [4, 5, 6],\n",
    "    [7, 8, 9]\n",
    "]])\n",
    "print(arr)\n"
   ]
  },
  {
   "cell_type": "code",
   "execution_count": 63,
   "id": "96a437fc-a885-4b89-8d76-a2a404f3833f",
   "metadata": {},
   "outputs": [
    {
     "name": "stdout",
     "output_type": "stream",
     "text": [
      "2\n",
      "8\n"
     ]
    }
   ],
   "source": [
    "# access elemetn from the 3D array\n",
    "import numpy as np\n",
    "arr = np.array([[\n",
    "    [1, 2, 3],\n",
    "    [4, 5, 6],\n",
    "    [7, 8, 9]\n",
    "]])\n",
    "print(arr[0, 0, 1])\n",
    "print(arr[0, 2, 1])\n"
   ]
  },
  {
   "cell_type": "code",
   "execution_count": 6,
   "id": "2b8a0d70-28b7-4e0d-b174-2b29d55d7f89",
   "metadata": {},
   "outputs": [
    {
     "name": "stdout",
     "output_type": "stream",
     "text": [
      "8\n",
      "6\n"
     ]
    }
   ],
   "source": [
    "# access elemetn from the 3D array\n",
    "import numpy as np\n",
    "arr = np.array([[\n",
    "    [1, 2, 3], [4, 5, 6]],\n",
    "    [[7, 8, 9], [10, 11, 12]\n",
    "]])\n",
    "print(arr[1, 0, 1])\n",
    "print(arr[0, 1, 2])\n",
    "# print(arr[0, 2, 1])\n"
   ]
  },
  {
   "cell_type": "code",
   "execution_count": 26,
   "id": "2f31341f-4594-4f86-bb70-6254a830d168",
   "metadata": {},
   "outputs": [
    {
     "name": "stdout",
     "output_type": "stream",
     "text": [
      "[]\n"
     ]
    }
   ],
   "source": [
    "# access elemetn from the 3D array\n",
    "import numpy as np\n",
    "arr = np.array([[\n",
    "    [1, 2, 3], [4, 5, 6]],\n",
    "    [[7, 8, 9], [10, 11, 12]\n",
    "]])\n",
    "\n",
    "print(arr[0, 0, 2])"
   ]
  },
  {
   "cell_type": "code",
   "execution_count": 11,
   "id": "eab81ca7-c88b-4180-adc3-c9be434bc9e8",
   "metadata": {},
   "outputs": [
    {
     "name": "stdout",
     "output_type": "stream",
     "text": [
      "[[10 11 12]]\n"
     ]
    }
   ],
   "source": [
    "# sclicing\n",
    "\n",
    "import numpy as np\n",
    "arr = np.array([[\n",
    "    [1, 2, 3], [4, 5, 6]],\n",
    "    [[7, 8, 9], [10, 11, 12]\n",
    "]])\n",
    "\n",
    "print(arr[1, 1 : 2])"
   ]
  },
  {
   "cell_type": "code",
   "execution_count": 31,
   "id": "057192e8-9dfa-4370-8169-64265c346be9",
   "metadata": {},
   "outputs": [
    {
     "name": "stdout",
     "output_type": "stream",
     "text": [
      "[14 15]\n"
     ]
    }
   ],
   "source": [
    "import numpy as np\n",
    "arr = np.array([\n",
    "    [[7, 8, 9], [10, 11, 12]],\n",
    "    [[13, 14, 15], [16, 17, 18]]\n",
    "])\n",
    "\n",
    "print(arr[1, 0, 1:3])\n",
    "\n",
    "# sclicing\n"
   ]
  },
  {
   "cell_type": "code",
   "execution_count": 7,
   "id": "e771d440-144c-47ef-82d6-81c65d62d87d",
   "metadata": {},
   "outputs": [
    {
     "name": "stdout",
     "output_type": "stream",
     "text": [
      "4\n"
     ]
    }
   ],
   "source": [
    "import numpy as np\n",
    "arr = np.array([[[1, 2, 3, 4, 5, 6]]])\n",
    "\n",
    "print(arr[0, 0, 3])"
   ]
  },
  {
   "cell_type": "code",
   "execution_count": 12,
   "id": "2e6be943-892a-4a2f-9a18-fb89a8cb1d17",
   "metadata": {},
   "outputs": [
    {
     "name": "stdout",
     "output_type": "stream",
     "text": [
      "[1 2 3 4 5 6]\n"
     ]
    }
   ],
   "source": [
    "import numpy as np\n",
    "arr = np.array([[[1, 2, 3, 4, 5, 6], [7, 8, 9, 10, 11, 12]]])\n",
    "\n",
    "print(arr[0, 0])"
   ]
  },
  {
   "cell_type": "code",
   "execution_count": 12,
   "id": "63393f72-585f-438b-9f0f-6a59f59611c5",
   "metadata": {},
   "outputs": [
    {
     "name": "stdout",
     "output_type": "stream",
     "text": [
      "[1 2 3 4 5 6]\n"
     ]
    }
   ],
   "source": [
    "import numpy as np\n",
    "arr = np.array([[[1, 2, 3, 4, 5, 6], [7, 8, 9, 10, 11, 12]]])\n",
    "\n",
    "print(arr[0, 0])"
   ]
  },
  {
   "cell_type": "code",
   "execution_count": 11,
   "id": "f9a4af1e-f672-4c50-83dd-38bda578f001",
   "metadata": {},
   "outputs": [
    {
     "name": "stdout",
     "output_type": "stream",
     "text": [
      "14\n"
     ]
    }
   ],
   "source": [
    "import numpy as np\n",
    "arr = np.array([[[7, 8, 9], [10, 11, 12]], [13, 14, 15], [16, 17, 18]]])\n",
    "\n",
    "print(arr[1, 0, 1])"
   ]
  },
  {
   "cell_type": "code",
   "execution_count": 19,
   "id": "8c3d9268-b183-4d03-a3cd-666dce9b4640",
   "metadata": {},
   "outputs": [
    {
     "name": "stdout",
     "output_type": "stream",
     "text": [
      "[17 18]\n"
     ]
    }
   ],
   "source": [
    "import numpy as np\n",
    "arr = np.array([\n",
    "    [[7, 8, 9], [10, 11, 12]],\n",
    "    [[13, 14, 15], [16, 17, 18]]\n",
    "])\n",
    "\n",
    "print(arr[1, 1, 1:3])"
   ]
  },
  {
   "cell_type": "code",
   "execution_count": 21,
   "id": "23d2c98f-3c16-43a6-9646-920bcd5e2e07",
   "metadata": {},
   "outputs": [
    {
     "name": "stdout",
     "output_type": "stream",
     "text": [
      "[7 8 9]\n",
      "[10 11 12]\n",
      "[13 14 15]\n",
      "[16 17 18]\n"
     ]
    }
   ],
   "source": [
    "import numpy as np\n",
    "arr = np.array([\n",
    "    [[7, 8, 9], [10, 11, 12]],\n",
    "    [[13, 14, 15], [16, 17, 18]]\n",
    "])\n",
    "\n",
    "for x in arr:\n",
    "    for y in x:\n",
    "        print(y)\n"
   ]
  },
  {
   "cell_type": "code",
   "execution_count": 21,
   "id": "0d1b0e70-e1ea-4381-8e1d-64dd318db30c",
   "metadata": {},
   "outputs": [
    {
     "name": "stdout",
     "output_type": "stream",
     "text": [
      "[7 8 9]\n",
      "[10 11 12]\n",
      "[13 14 15]\n",
      "[16 17 18]\n"
     ]
    }
   ],
   "source": [
    "import numpy as np\n",
    "arr = np.array([\n",
    "    [[7, 8, 9], [10, 11, 12]],\n",
    "    [[13, 14, 15], [16, 17, 18]]\n",
    "])\n"
   ]
  },
  {
   "cell_type": "code",
   "execution_count": null,
   "id": "1681b92f-a0e7-493d-91b3-2f2417060050",
   "metadata": {},
   "outputs": [],
   "source": []
  }
 ],
 "metadata": {
  "kernelspec": {
   "display_name": "Python 3 (ipykernel)",
   "language": "python",
   "name": "python3"
  },
  "language_info": {
   "codemirror_mode": {
    "name": "ipython",
    "version": 3
   },
   "file_extension": ".py",
   "mimetype": "text/x-python",
   "name": "python",
   "nbconvert_exporter": "python",
   "pygments_lexer": "ipython3",
   "version": "3.8.10"
  }
 },
 "nbformat": 4,
 "nbformat_minor": 5
}
