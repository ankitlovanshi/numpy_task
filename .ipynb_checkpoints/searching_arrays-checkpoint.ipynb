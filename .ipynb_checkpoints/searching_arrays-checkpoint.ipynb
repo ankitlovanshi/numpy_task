{
 "cells": [
  {
   "cell_type": "code",
   "execution_count": 3,
   "id": "71a03616-284e-4a9e-915b-b2d3012111ff",
   "metadata": {},
   "outputs": [
    {
     "name": "stdout",
     "output_type": "stream",
     "text": [
      "(array([3, 4]),)\n"
     ]
    }
   ],
   "source": [
    "# searching the element in the array\n",
    "import numpy as np\n",
    "\n",
    "arr = np.array([1, 2, 3, 4, 4, 5, 6, 7, 8])\n",
    "x = np.where(arr == 4)\n",
    "print(x)"
   ]
  },
  {
   "cell_type": "code",
   "execution_count": 34,
   "id": "5250f07c-ba22-457b-b6dc-6e1732b6771b",
   "metadata": {},
   "outputs": [
    {
     "data": {
      "text/plain": [
       "(array([1, 3, 5, 7]),)"
      ]
     },
     "execution_count": 34,
     "metadata": {},
     "output_type": "execute_result"
    }
   ],
   "source": [
    "# searching the odd element from the array  by the where function\n",
    "import numpy as np\n",
    "\n",
    "arr = np.array([1, 2, 3, 4, 5, 6, 7, 16])\n",
    "np.where(arr%2 == 0)\n",
    "# # x = arr[np.where(arr%2 == 0)]\n",
    "# print(np.dtype(x))"
   ]
  },
  {
   "cell_type": "code",
   "execution_count": 8,
   "id": "8596de27-74b4-438b-a03f-f4ea90f88a26",
   "metadata": {},
   "outputs": [
    {
     "name": "stdout",
     "output_type": "stream",
     "text": [
      "(array([0, 2, 4, 6]),)\n"
     ]
    }
   ],
   "source": [
    "# searching the even element from the array \n",
    "import numpy as np\n",
    "\n",
    "arr = np.array([1, 2, 3, 4, 5, 6, 7, 8])\n",
    "x = np.where(arr%2 == 1)\n",
    "print(x)"
   ]
  },
  {
   "cell_type": "code",
   "execution_count": 29,
   "id": "21775f9c-dc87-43f2-95f6-43ed7b2fb3ab",
   "metadata": {},
   "outputs": [
    {
     "name": "stdout",
     "output_type": "stream",
     "text": [
      "[6 7 8 9]\n",
      "0\n"
     ]
    }
   ],
   "source": [
    "# search the element in the sorted array by the searchsorted()\n",
    "import numpy as np\n",
    "\n",
    "arr = np.array([6, 7, 8, 9])\n",
    "print(arr)\n",
    "\n",
    "x = np.searchsorted(arr, 6)\n",
    "print(x)"
   ]
  },
  {
   "cell_type": "code",
   "execution_count": 32,
   "id": "bb04e5f1-67ce-4edc-837e-f0855babffb4",
   "metadata": {},
   "outputs": [
    {
     "name": "stdout",
     "output_type": "stream",
     "text": [
      "[6 7 7 8 9]\n",
      "1\n"
     ]
    }
   ],
   "source": [
    "# search the element in the sorted array by the searchsorted()\n",
    "# it take side by defulte left side for the searching the element\n",
    "\n",
    "import numpy as np\n",
    "\n",
    "arr = np.array([6, 7, 7, 8, 9])\n",
    "print(arr)\n",
    "\n",
    "x = np.searchsorted(arr, 7)\n",
    "print(x)"
   ]
  },
  {
   "cell_type": "code",
   "execution_count": 33,
   "id": "08c977d5-795f-466f-b855-48e42eb190c7",
   "metadata": {},
   "outputs": [
    {
     "name": "stdout",
     "output_type": "stream",
     "text": [
      "[6 7 7 8 9]\n",
      "3\n"
     ]
    }
   ],
   "source": [
    "# search the element form the array  from the right side\n",
    "\n",
    "import numpy as np\n",
    "\n",
    "arr = np.array([6, 7, 7, 8, 9])\n",
    "print(arr)\n",
    "\n",
    "x = np.searchsorted(arr, 7, side = 'right')\n",
    "print(x)"
   ]
  },
  {
   "cell_type": "code",
   "execution_count": 35,
   "id": "9b366927-90e0-4ef7-8175-c325b2406058",
   "metadata": {},
   "outputs": [
    {
     "name": "stdout",
     "output_type": "stream",
     "text": [
      "[1 2 3 4 5 6]\n",
      "[0 1 2]\n"
     ]
    }
   ],
   "source": [
    "# search multiple value\n",
    "\n",
    "import numpy as np\n",
    "\n",
    "arr = np.array([1, 2, 3, 4, 5, 6])\n",
    "print(arr)\n",
    "x = np.searchsorted(arr, [1, 2, 3])\n",
    "print(x)"
   ]
  },
  {
   "cell_type": "code",
   "execution_count": null,
   "id": "cd1f18e1-9ec9-4400-99ad-dbd211ac9838",
   "metadata": {},
   "outputs": [],
   "source": []
  }
 ],
 "metadata": {
  "kernelspec": {
   "display_name": "Python 3 (ipykernel)",
   "language": "python",
   "name": "python3"
  },
  "language_info": {
   "codemirror_mode": {
    "name": "ipython",
    "version": 3
   },
   "file_extension": ".py",
   "mimetype": "text/x-python",
   "name": "python",
   "nbconvert_exporter": "python",
   "pygments_lexer": "ipython3",
   "version": "3.8.10"
  }
 },
 "nbformat": 4,
 "nbformat_minor": 5
}
