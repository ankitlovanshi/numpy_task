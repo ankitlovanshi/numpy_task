{
 "cells": [
  {
   "cell_type": "code",
   "execution_count": 2,
   "id": "10d2e701-f941-4576-bb22-edec056d1bce",
   "metadata": {},
   "outputs": [
    {
     "name": "stdout",
     "output_type": "stream",
     "text": [
      "After creating array:  [1 2 3 4 5]\n",
      "After making copy: [1 2 3 4 5]\n",
      "After changing the new_arr: [10  2  3  4  5]\n",
      "Orignal arr: [1 2 3 4 5]\n"
     ]
    }
   ],
   "source": [
    "# Copy\n",
    "\n",
    "import numpy as np\n",
    "arr = np.array([1, 2, 3, 4, 5])\n",
    "print(\"After creating array: \", arr)\n",
    "\n",
    "new_arr = arr.copy()\n",
    "print(\"After making copy:\", new_arr)\n",
    "\n",
    "new_arr[0] = 10\n",
    "print(\"After changing the new_arr:\", new_arr)\n",
    "print(\"Orignal arr:\", arr)"
   ]
  },
  {
   "cell_type": "code",
   "execution_count": 3,
   "id": "dfe190a2-c296-49b4-b766-d529b446966e",
   "metadata": {},
   "outputs": [
    {
     "name": "stdout",
     "output_type": "stream",
     "text": [
      "After creating array:  [1 2 3 4 5]\n",
      "After making view: [1 2 3 4 5]\n",
      "After changing the new_arr: [10  2  3  4  5]\n",
      "Orignal arr: [10  2  3  4  5]\n"
     ]
    }
   ],
   "source": [
    "# View\n",
    "\n",
    "import numpy as np\n",
    "arr = np.array([1, 2, 3, 4, 5])\n",
    "print(\"After creating array: \", arr)\n",
    "\n",
    "new_arr = arr.view()\n",
    "print(\"After making view:\", new_arr)\n",
    "\n",
    "new_arr[0] = 10\n",
    "print(\"After changing the new_arr:\", new_arr)\n",
    "print(\"Orignal arr:\", arr)"
   ]
  },
  {
   "cell_type": "code",
   "execution_count": 5,
   "id": "9de90036-35d1-4df6-8973-6598f4cec98c",
   "metadata": {},
   "outputs": [
    {
     "name": "stdout",
     "output_type": "stream",
     "text": [
      "None\n",
      "[1 2 3 4 5]\n"
     ]
    }
   ],
   "source": [
    "import numpy as np\n",
    "arr = np.array([1, 2, 3, 4, 5])\n",
    "\n",
    "new_arr_copy = arr.copy()\n",
    "new_arr_view = arr.view()\n",
    "\n",
    "print(new_arr_copy.base)\n",
    "print(new_arr_view.base)"
   ]
  },
  {
   "cell_type": "code",
   "execution_count": 8,
   "id": "6ba45b49-aadd-4d59-b15a-17a7e54c21ef",
   "metadata": {},
   "outputs": [
    {
     "name": "stdout",
     "output_type": "stream",
     "text": [
      "(2, 4)\n"
     ]
    }
   ],
   "source": [
    "# it print the dimantion of the array (shape), how much rows and coloumns are exist\n",
    "import numpy as np\n",
    "\n",
    "arr = np.array([[1, 2, 3, 4], [5, 6, 7, 8]])\n",
    "\n",
    "print(arr.shape)"
   ]
  },
  {
   "cell_type": "code",
   "execution_count": 7,
   "id": "e7adc5c9-5b7b-402c-841e-27d3ced95955",
   "metadata": {},
   "outputs": [
    {
     "name": "stdout",
     "output_type": "stream",
     "text": [
      "(5,)\n"
     ]
    }
   ],
   "source": [
    "import numpy as np\n",
    "\n",
    "arr = np.array([1, 2, 3, 4, 5])\n",
    "\n",
    "print(arr.shape)"
   ]
  },
  {
   "cell_type": "code",
   "execution_count": 11,
   "id": "87d6a231-960d-4f80-96f7-e4bf03836b5e",
   "metadata": {},
   "outputs": [
    {
     "name": "stdout",
     "output_type": "stream",
     "text": [
      "[[ 1  2  3]\n",
      " [ 4  5  6]\n",
      " [ 7  8  9]\n",
      " [10 11 12]]\n"
     ]
    }
   ],
   "source": [
    "import numpy as np\n",
    "\n",
    "arr = np.array([1, 2, 3, 4, 5, 6, 7, 8, 9, 10, 11, 12])\n",
    "\n",
    "newarr = arr.reshape(4, 3)\n",
    "\n",
    "print(newarr)"
   ]
  },
  {
   "cell_type": "code",
   "execution_count": null,
   "id": "2cac5c4d-3fad-4a30-adea-37648450a2a7",
   "metadata": {},
   "outputs": [],
   "source": []
  }
 ],
 "metadata": {
  "kernelspec": {
   "display_name": "Python 3 (ipykernel)",
   "language": "python",
   "name": "python3"
  },
  "language_info": {
   "codemirror_mode": {
    "name": "ipython",
    "version": 3
   },
   "file_extension": ".py",
   "mimetype": "text/x-python",
   "name": "python",
   "nbconvert_exporter": "python",
   "pygments_lexer": "ipython3",
   "version": "3.8.10"
  }
 },
 "nbformat": 4,
 "nbformat_minor": 5
}
