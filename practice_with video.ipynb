{
 "cells": [
  {
   "cell_type": "code",
   "execution_count": 5,
   "id": "71ab615f-2631-4489-a875-e1a0fe89592f",
   "metadata": {},
   "outputs": [
    {
     "name": "stdout",
     "output_type": "stream",
     "text": [
      "[10 20 30 40]\n",
      "<class 'numpy.ndarray'>\n"
     ]
    }
   ],
   "source": [
    "# create array \n",
    "\n",
    "import numpy as np\n",
    "\n",
    "x = np.array([10, 20, 30, 40])\n",
    "print(x)\n",
    "print(type(x))\n"
   ]
  },
  {
   "cell_type": "code",
   "execution_count": 8,
   "id": "db3b44d6-b7be-4a9f-a16c-74b63bef591b",
   "metadata": {},
   "outputs": [
    {
     "name": "stdout",
     "output_type": "stream",
     "text": [
      "[[1 2 3]\n",
      " [4 5 6]\n",
      " [7 8 9]]\n"
     ]
    }
   ],
   "source": [
    "# 2D array\n",
    "import numpy as np\n",
    "\n",
    "x = np.array([[1,2,3], [4,5,6], [7,8,9]])\n",
    "print(x)"
   ]
  },
  {
   "cell_type": "code",
   "execution_count": 10,
   "id": "9c01cb71-9471-415f-acc5-ef78548bb643",
   "metadata": {},
   "outputs": [
    {
     "name": "stdout",
     "output_type": "stream",
     "text": [
      "[[[ 1  2]\n",
      "  [ 4  5]]\n",
      "\n",
      " [[ 7  8]\n",
      "  [ 9 10]]]\n"
     ]
    }
   ],
   "source": [
    "# 3D array\n",
    "import numpy as np\n",
    "\n",
    "x = np.array([[[1,2], [4,5]], [[7,8], [9, 10]]])\n",
    "print(x)"
   ]
  },
  {
   "cell_type": "code",
   "execution_count": 12,
   "id": "e9222d61-e40b-42bd-b3ce-fcea983e1aa2",
   "metadata": {},
   "outputs": [
    {
     "name": "stdout",
     "output_type": "stream",
     "text": [
      "[10. 20. 30. 40.]\n",
      "<class 'numpy.ndarray'>\n"
     ]
    }
   ],
   "source": [
    "# we are creating the array with any data type --->with float data type\n",
    "\n",
    "import numpy as np\n",
    "\n",
    "x = np.array([10, 20, 30, 40], dtype = 'float')\n",
    "print(x)\n",
    "print(type(x))\n"
   ]
  },
  {
   "cell_type": "code",
   "execution_count": 14,
   "id": "e2dc739a-b76a-4790-9cc1-1a240eb378d2",
   "metadata": {},
   "outputs": [
    {
     "name": "stdout",
     "output_type": "stream",
     "text": [
      "[ True False  True  True]\n",
      "<class 'numpy.ndarray'>\n"
     ]
    }
   ],
   "source": [
    "# we are creating the array with bool data type\n",
    "\n",
    "import numpy as np\n",
    "\n",
    "x = np.array([10, 0, 30, 40], dtype = 'bool')\n",
    "print(x)\n",
    "print(type(x))\n"
   ]
  },
  {
   "cell_type": "code",
   "execution_count": 16,
   "id": "fe64c3b3-18b9-4bd5-a66b-69cc8a8b534a",
   "metadata": {},
   "outputs": [
    {
     "name": "stdout",
     "output_type": "stream",
     "text": [
      "[1 2 3 4 5 6 7 8 9]\n",
      "<class 'numpy.ndarray'>\n"
     ]
    }
   ],
   "source": [
    "# creating the array within the range\n",
    "\n",
    "import numpy as np\n",
    "\n",
    "x = np.arange(1, 10)\n",
    "print(x)\n",
    "print(type(x))\n"
   ]
  },
  {
   "cell_type": "code",
   "execution_count": 18,
   "id": "54690612-9de8-4e0a-9d06-1efbad4b470f",
   "metadata": {},
   "outputs": [
    {
     "name": "stdout",
     "output_type": "stream",
     "text": [
      "[1 3 5 7 9]\n",
      "<class 'numpy.ndarray'>\n"
     ]
    }
   ],
   "source": [
    "# creating the array within the range with step\n",
    "\n",
    "import numpy as np\n",
    "\n",
    "x = np.arange(1, 10, 2)\n",
    "print(x)\n",
    "print(type(x))\n"
   ]
  },
  {
   "cell_type": "code",
   "execution_count": 20,
   "id": "984ac47c-b737-45b3-8199-da38d5690998",
   "metadata": {},
   "outputs": [
    {
     "name": "stdout",
     "output_type": "stream",
     "text": [
      "[ 0  5 10]\n",
      "<class 'numpy.ndarray'>\n"
     ]
    }
   ],
   "source": [
    "# creating the array within the range with step\n",
    "\n",
    "import numpy as np\n",
    "\n",
    "x = np.arange(0, 11, 5)\n",
    "print(x)\n",
    "print(type(x))\n"
   ]
  },
  {
   "cell_type": "code",
   "execution_count": 27,
   "id": "b5a1ce0b-23f5-4dd0-b5a2-03b5fe4b4fe2",
   "metadata": {},
   "outputs": [
    {
     "name": "stdout",
     "output_type": "stream",
     "text": [
      "[ 1  2  3  4  5  6  7  8  9 10]\n",
      "[[ 1  2  3  4  5]\n",
      " [ 6  7  8  9 10]]\n",
      "[[ 1  2]\n",
      " [ 3  4]\n",
      " [ 5  6]\n",
      " [ 7  8]\n",
      " [ 9 10]]\n"
     ]
    }
   ],
   "source": [
    "# creating the array within the range and rechange\n",
    "\n",
    "import numpy as np\n",
    "\n",
    "x = np.arange(1, 11)\n",
    "print(x)\n",
    "\n",
    "y = x.reshape(2,5)\n",
    "z = x.reshape(5, 2)\n",
    "print(y)\n",
    "print(z)"
   ]
  },
  {
   "cell_type": "code",
   "execution_count": 30,
   "id": "c8dbc352-d16b-423f-8aa1-627ea0163d80",
   "metadata": {},
   "outputs": [
    {
     "name": "stdout",
     "output_type": "stream",
     "text": [
      "[[1. 1. 1.]\n",
      " [1. 1. 1.]\n",
      " [1. 1. 1.]]\n"
     ]
    }
   ],
   "source": [
    "# ones function\n",
    "import numpy as np\n",
    "\n",
    "x = np.ones((3, 3))\n",
    "print(x)"
   ]
  },
  {
   "cell_type": "code",
   "execution_count": 31,
   "id": "b77b1cff-064b-43d8-8a04-2cc2756e40d3",
   "metadata": {},
   "outputs": [
    {
     "name": "stdout",
     "output_type": "stream",
     "text": [
      "[[0. 0. 0.]\n",
      " [0. 0. 0.]\n",
      " [0. 0. 0.]]\n"
     ]
    }
   ],
   "source": [
    " # zeros function\n",
    "import numpy as np\n",
    "\n",
    "x = np.zeros((3, 3))\n",
    "print(x)"
   ]
  },
  {
   "cell_type": "code",
   "execution_count": 34,
   "id": "6cf3804c-27e3-43fb-9c44-da5842f38ab1",
   "metadata": {},
   "outputs": [
    {
     "name": "stdout",
     "output_type": "stream",
     "text": [
      "[[0.13832904 0.90407642 0.04494117]\n",
      " [0.52761363 0.12477933 0.23071527]\n",
      " [0.17523398 0.10049527 0.46472702]]\n"
     ]
    }
   ],
   "source": [
    "# random numbers\n",
    "import numpy as np\n",
    "\n",
    "x = np.random.random((3, 3))\n",
    "print(x)"
   ]
  },
  {
   "cell_type": "code",
   "execution_count": 35,
   "id": "ea2a20b5-c206-4aec-b34f-a4d2c7f96334",
   "metadata": {},
   "outputs": [
    {
     "name": "stdout",
     "output_type": "stream",
     "text": [
      "[ 10.  20.  30.  40.  50.  60.  70.  80.  90. 100.]\n"
     ]
    }
   ],
   "source": [
    "# linspace\n",
    "import numpy as np\n",
    "\n",
    "x = np.linspace(10, 100, 10)\n",
    "print(x)"
   ]
  },
  {
   "cell_type": "code",
   "execution_count": 37,
   "id": "368a0c1e-e342-4888-8854-9ab14cfb43bf",
   "metadata": {},
   "outputs": [
    {
     "name": "stdout",
     "output_type": "stream",
     "text": [
      "[[1. 0. 0.]\n",
      " [0. 1. 0.]\n",
      " [0. 0. 1.]]\n"
     ]
    }
   ],
   "source": [
    "# identity\n",
    "import numpy as np\n",
    "\n",
    "x = np.identity(3)\n",
    "print(x)"
   ]
  },
  {
   "cell_type": "code",
   "execution_count": 65,
   "id": "f2838c13-1e53-4cfd-a525-62082c0efac1",
   "metadata": {},
   "outputs": [
    {
     "name": "stdout",
     "output_type": "stream",
     "text": [
      "a1 =  [0 1 2 3 4 5 6 7 8 9] \n",
      "\n",
      "a2 =  [[0 1 2 3 4]\n",
      " [5 6 7 8 9]] \n",
      "\n",
      "a3 =  [[[ 0  1  2]\n",
      "  [ 3  4  5]]\n",
      "\n",
      " [[ 6  7  8]\n",
      "  [ 9 10 11]]] \n",
      "\n"
     ]
    }
   ],
   "source": [
    "# Attributes of array\n",
    "\n",
    "import numpy as np\n",
    "\n",
    "a1 = np.arange(10)\n",
    "a2 = a1.reshape(2, 5)\n",
    "a3 = np.arange(12).reshape(2, 2, 3) \n",
    "\n",
    "print(\"a1 = \", a1, \"\\n\")\n",
    "print(\"a2 = \", a2, \"\\n\")\n",
    "print(\"a3 = \", a3, \"\\n\")"
   ]
  },
  {
   "cell_type": "code",
   "execution_count": 50,
   "id": "dd0a1f5d-3873-4439-8213-ea952f9b0e7d",
   "metadata": {},
   "outputs": [
    {
     "data": {
      "text/plain": [
       "2"
      ]
     },
     "execution_count": 50,
     "metadata": {},
     "output_type": "execute_result"
    }
   ],
   "source": [
    "# find dimantions\n",
    "a2.ndim"
   ]
  },
  {
   "cell_type": "code",
   "execution_count": 55,
   "id": "33fb1f2c-3e7f-4320-938c-0ddba3dffaba",
   "metadata": {},
   "outputs": [
    {
     "data": {
      "text/plain": [
       "(2, 5)"
      ]
     },
     "execution_count": 55,
     "metadata": {},
     "output_type": "execute_result"
    }
   ],
   "source": [
    "# shape (show how many rows and column in array)\n",
    "a2.shape\n"
   ]
  },
  {
   "cell_type": "code",
   "execution_count": 59,
   "id": "2c1abe35-1e20-4557-828b-e2c8a34f03e1",
   "metadata": {},
   "outputs": [
    {
     "data": {
      "text/plain": [
       "12"
      ]
     },
     "execution_count": 59,
     "metadata": {},
     "output_type": "execute_result"
    }
   ],
   "source": [
    "# how muche elements are in the array\n",
    "a3.size"
   ]
  },
  {
   "cell_type": "code",
   "execution_count": 66,
   "id": "7acf4143-cfcb-4c0c-ba14-b9182bcfeacc",
   "metadata": {},
   "outputs": [
    {
     "data": {
      "text/plain": [
       "8"
      ]
     },
     "execution_count": 66,
     "metadata": {},
     "output_type": "execute_result"
    }
   ],
   "source": [
    "# size of the each element inside the array\n",
    "a1.itemsize"
   ]
  },
  {
   "cell_type": "code",
   "execution_count": 68,
   "id": "690fe7d4-0e1f-4e44-87eb-664377f25380",
   "metadata": {},
   "outputs": [
    {
     "data": {
      "text/plain": [
       "dtype('int64')"
      ]
     },
     "execution_count": 68,
     "metadata": {},
     "output_type": "execute_result"
    }
   ],
   "source": [
    "# data type\n",
    "a1.dtype"
   ]
  },
  {
   "cell_type": "code",
   "execution_count": 108,
   "id": "94e875ba-5fce-419f-a276-718f0446a04b",
   "metadata": {},
   "outputs": [
    {
     "data": {
      "text/plain": [
       "array([11.2, 11.3])"
      ]
     },
     "execution_count": 108,
     "metadata": {},
     "output_type": "execute_result"
    }
   ],
   "source": [
    "# changing data type\n",
    "# astype\n",
    "import numpy as np\n",
    "a3 = np.array([11.2, 11.3])\n",
    "a3.astype(np.int32)\n",
    "a3\n"
   ]
  },
  {
   "cell_type": "code",
   "execution_count": 82,
   "id": "e3f1b04d-3ec3-4888-9992-65aacc89997e",
   "metadata": {},
   "outputs": [
    {
     "name": "stdout",
     "output_type": "stream",
     "text": [
      "[10.5 11.5 12.5 13.5 14.5]\n",
      "float64\n",
      "After changing the data type\n"
     ]
    },
    {
     "data": {
      "text/plain": [
       "array([10, 11, 12, 13, 14], dtype=int32)"
      ]
     },
     "execution_count": 82,
     "metadata": {},
     "output_type": "execute_result"
    }
   ],
   "source": [
    "import numpy as np\n",
    "\n",
    "arr = np.array([10.5, 11.5, 12.5, 13.5, 14.5])\n",
    "print(arr)\n",
    "print(arr.dtype)\n",
    "\n",
    "print(\"After changing the data type\")\n",
    "arr.astype(np.int32)"
   ]
  },
  {
   "cell_type": "code",
   "execution_count": 97,
   "id": "22132dc0-ca1e-45c7-980a-ce232fe2fb63",
   "metadata": {},
   "outputs": [],
   "source": [
    "# array operations\n",
    "\n",
    "import numpy as np\n",
    "arr1 = np.arange(12).reshape(3, 4)\n",
    "arr2 = np.arange(12, 24).reshape(3, 4)"
   ]
  },
  {
   "cell_type": "code",
   "execution_count": 89,
   "id": "a0b424c2-b29e-44fa-a7c8-05fcf14e1d42",
   "metadata": {},
   "outputs": [
    {
     "data": {
      "text/plain": [
       "array([[ 2,  4,  6,  8],\n",
       "       [10, 12, 14, 16],\n",
       "       [18, 20, 22, 24]])"
      ]
     },
     "execution_count": 89,
     "metadata": {},
     "output_type": "execute_result"
    }
   ],
   "source": [
    "arr1 * 2"
   ]
  },
  {
   "cell_type": "code",
   "execution_count": 91,
   "id": "ed527402-62af-4e9d-b157-035719790703",
   "metadata": {},
   "outputs": [
    {
     "data": {
      "text/plain": [
       "array([[  1,   4,   9,  16],\n",
       "       [ 25,  36,  49,  64],\n",
       "       [ 81, 100, 121, 144]])"
      ]
     },
     "execution_count": 91,
     "metadata": {},
     "output_type": "execute_result"
    }
   ],
   "source": [
    "arr1 ** 2"
   ]
  },
  {
   "cell_type": "code",
   "execution_count": 100,
   "id": "00478ae0-8686-433b-b3c8-e438a0d20b95",
   "metadata": {
    "scrolled": true
   },
   "outputs": [
    {
     "data": {
      "text/plain": [
       "array([[False, False, False, False],\n",
       "       [False, False, False,  True],\n",
       "       [ True,  True,  True,  True]])"
      ]
     },
     "execution_count": 100,
     "metadata": {},
     "output_type": "execute_result"
    }
   ],
   "source": [
    "arr1 > 6"
   ]
  },
  {
   "cell_type": "code",
   "execution_count": 99,
   "id": "dbe03775-d277-4be8-81cc-df04b5a79fe5",
   "metadata": {},
   "outputs": [],
   "source": [
    "# vector operations (operation on the two array)\n",
    "#  arthimetic operations"
   ]
  },
  {
   "cell_type": "code",
   "execution_count": 101,
   "id": "804c6373-39ab-496a-ae56-f45afb4c5ac5",
   "metadata": {},
   "outputs": [
    {
     "data": {
      "text/plain": [
       "array([[12, 14, 16, 18],\n",
       "       [20, 22, 24, 26],\n",
       "       [28, 30, 32, 34]])"
      ]
     },
     "execution_count": 101,
     "metadata": {},
     "output_type": "execute_result"
    }
   ],
   "source": [
    "arr1 + arr2"
   ]
  },
  {
   "cell_type": "code",
   "execution_count": 102,
   "id": "7e196a1d-db7a-48e6-8e2a-e916e4b0474b",
   "metadata": {},
   "outputs": [
    {
     "data": {
      "text/plain": [
       "array([[  0,  13,  28,  45],\n",
       "       [ 64,  85, 108, 133],\n",
       "       [160, 189, 220, 253]])"
      ]
     },
     "execution_count": 102,
     "metadata": {},
     "output_type": "execute_result"
    }
   ],
   "source": [
    "arr1 * arr2"
   ]
  },
  {
   "cell_type": "code",
   "execution_count": 109,
   "id": "c5080c55-f9c1-44ae-a8a2-26bee66efc99",
   "metadata": {},
   "outputs": [
    {
     "data": {
      "text/plain": [
       "array([[-12, -12, -12, -12],\n",
       "       [-12, -12, -12, -12],\n",
       "       [-12, -12, -12, -12]])"
      ]
     },
     "execution_count": 109,
     "metadata": {},
     "output_type": "execute_result"
    }
   ],
   "source": [
    "arr1 - arr2"
   ]
  },
  {
   "cell_type": "code",
   "execution_count": 110,
   "id": "84c0d45b-34c7-4b58-a407-5cb6597ff0a4",
   "metadata": {},
   "outputs": [
    {
     "data": {
      "text/plain": [
       "array([[0.        , 0.07692308, 0.14285714, 0.2       ],\n",
       "       [0.25      , 0.29411765, 0.33333333, 0.36842105],\n",
       "       [0.4       , 0.42857143, 0.45454545, 0.47826087]])"
      ]
     },
     "execution_count": 110,
     "metadata": {},
     "output_type": "execute_result"
    }
   ],
   "source": [
    "arr1 / arr2"
   ]
  },
  {
   "cell_type": "code",
   "execution_count": 118,
   "id": "a60a1970-cbce-4a00-bcba-70fd13fb26f0",
   "metadata": {},
   "outputs": [
    {
     "data": {
      "text/plain": [
       "(2, 5)"
      ]
     },
     "execution_count": 118,
     "metadata": {},
     "output_type": "execute_result"
    }
   ],
   "source": [
    "# linspace\n",
    "import numpy as np\n",
    "\n",
    "x = np.arange(10).reshape((2, 5))\n",
    "x.shape"
   ]
  },
  {
   "cell_type": "code",
   "execution_count": 1,
   "id": "c05735f9-a210-4f89-abf9-f102528ca463",
   "metadata": {},
   "outputs": [
    {
     "name": "stdout",
     "output_type": "stream",
     "text": [
      "[[0 1 2]\n",
      " [3 4 5]\n",
      " [6 7 8]]\n"
     ]
    }
   ],
   "source": [
    "# functions \n",
    "# max / min / sum / prod\n",
    "import numpy as np\n",
    "\n",
    "x = np.arange(6).reshape((2, 3))\n",
    "y = np.arange(6).reshape((3, 2))\n"
   ]
  },
  {
   "cell_type": "code",
   "execution_count": 2,
   "id": "20d6dd3a-90bb-4781-99ce-0b924f4427af",
   "metadata": {},
   "outputs": [
    {
     "data": {
      "text/plain": [
       "8"
      ]
     },
     "execution_count": 2,
     "metadata": {},
     "output_type": "execute_result"
    }
   ],
   "source": [
    "np.max(x)"
   ]
  },
  {
   "cell_type": "code",
   "execution_count": 4,
   "id": "5a6e6194-9d84-4aeb-8ae6-e555f4614abd",
   "metadata": {},
   "outputs": [
    {
     "data": {
      "text/plain": [
       "array([2, 5, 8])"
      ]
     },
     "execution_count": 4,
     "metadata": {},
     "output_type": "execute_result"
    }
   ],
   "source": [
    "# if i'll give the axis 0 column, 1 rows\n",
    "np.max(x, axis = 1)"
   ]
  },
  {
   "cell_type": "code",
   "execution_count": 7,
   "id": "d67943eb-0e48-41e1-93a0-1db968339062",
   "metadata": {},
   "outputs": [
    {
     "data": {
      "text/plain": [
       "array([[10, 13],\n",
       "       [28, 40]])"
      ]
     },
     "execution_count": 7,
     "metadata": {},
     "output_type": "execute_result"
    }
   ],
   "source": [
    "# dot\n",
    "x = np.arange(6).reshape((2, 3))\n",
    "y = np.arange(6).reshape((3, 2))\n",
    "np.dot(x, y)"
   ]
  },
  {
   "cell_type": "code",
   "execution_count": null,
   "id": "2f7c96bc-61dd-41b6-94cf-8d7431cb80eb",
   "metadata": {},
   "outputs": [],
   "source": []
  }
 ],
 "metadata": {
  "kernelspec": {
   "display_name": "Python 3 (ipykernel)",
   "language": "python",
   "name": "python3"
  },
  "language_info": {
   "codemirror_mode": {
    "name": "ipython",
    "version": 3
   },
   "file_extension": ".py",
   "mimetype": "text/x-python",
   "name": "python",
   "nbconvert_exporter": "python",
   "pygments_lexer": "ipython3",
   "version": "3.8.10"
  }
 },
 "nbformat": 4,
 "nbformat_minor": 5
}
