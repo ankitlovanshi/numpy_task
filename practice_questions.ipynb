{
 "cells": [
  {
   "cell_type": "code",
   "execution_count": 4,
   "id": "1ed736ba-7d90-4823-8aa0-874ddd578ba4",
   "metadata": {},
   "outputs": [
    {
     "name": "stdout",
     "output_type": "stream",
     "text": [
      "[10 20 30 40 50]\n",
      "30\n"
     ]
    }
   ],
   "source": [
    "import numpy as np \n",
    "\n",
    "arr1 = np.array([10, 20, 30, 40, 50])\n",
    "print(arr1)\n",
    "\n",
    "# access element--->output: 30\n",
    "print(arr1[2])"
   ]
  },
  {
   "cell_type": "code",
   "execution_count": 5,
   "id": "ed318d42-3176-43d7-87ca-992c81987b3b",
   "metadata": {},
   "outputs": [
    {
     "name": "stdout",
     "output_type": "stream",
     "text": [
      "[[1 2 3]\n",
      " [4 5 6]]\n",
      "3\n"
     ]
    }
   ],
   "source": [
    "import numpy as np \n",
    "\n",
    "arr2 = np.array([[1, 2, 3], [4, 5, 6]])\n",
    "print(arr2)\n",
    "\n",
    "# access element----> output: 3\n",
    "print(arr2[0, 2])\n"
   ]
  },
  {
   "cell_type": "code",
   "execution_count": 8,
   "id": "3d521238-3f7e-43b7-9750-b176d5e1c38c",
   "metadata": {},
   "outputs": [
    {
     "name": "stdout",
     "output_type": "stream",
     "text": [
      "[[10 20 30 40]]\n",
      "20\n"
     ]
    }
   ],
   "source": [
    "import numpy as np \n",
    "\n",
    "arr_2 = np.array([[10, 20, 30, 40]])\n",
    "print(arr_2)\n",
    "\n",
    "# access element----> output: 20\n",
    "print(arr_2[0, 1])"
   ]
  },
  {
   "cell_type": "code",
   "execution_count": 10,
   "id": "85eb01b8-6bdc-4168-92c9-9538f5787ba7",
   "metadata": {},
   "outputs": [
    {
     "name": "stdout",
     "output_type": "stream",
     "text": [
      "[[[10 20 30]\n",
      "  [40 50 60]\n",
      "  [70 80 90]]]\n",
      "40\n"
     ]
    }
   ],
   "source": [
    "import numpy as np \n",
    "\n",
    "arr3 = np.array([[[10, 20, 30], [40, 50, 60], [70, 80, 90]]])\n",
    "print(arr3)\n",
    "\n",
    "# access element----> output: 20\n",
    "print(arr3[0, 1, 0])"
   ]
  },
  {
   "cell_type": "code",
   "execution_count": 18,
   "id": "de8f6b12-56d3-41cb-bb04-aee74ee5fa69",
   "metadata": {},
   "outputs": [
    {
     "name": "stdout",
     "output_type": "stream",
     "text": [
      "[[[10 20 30]\n",
      "  [40 50 60]\n",
      "  [70 80 90]]]\n",
      "40\n",
      "0\n"
     ]
    }
   ],
   "source": [
    "import numpy as np \n",
    "\n",
    "arr = np.array([[[10, 20, 30], [40, 50, 60], [0, 1, 2], [3, 4, 5]]])\n",
    "print(arr3)\n",
    "\n",
    "# access element----> output: 40\n",
    "print(arr3[0, 1, 0])\n",
    "\n",
    "# access element----> output: 0\n",
    "print(arr[0, 2, 0])"
   ]
  },
  {
   "cell_type": "code",
   "execution_count": 22,
   "id": "82ce5dbb-374f-459f-96df-a0b19a2b93b3",
   "metadata": {},
   "outputs": [
    {
     "name": "stdout",
     "output_type": "stream",
     "text": [
      "6\n"
     ]
    }
   ],
   "source": [
    "#Question 2\n",
    "# Create a 2-dimensional NumPy array with shape (3, 3) containing values from 1 to 9. Access and print \n",
    "# the element in the second row and third column.\n",
    "import numpy as np \n",
    "\n",
    "arr = np.array([[1, 2, 3], [4, 5, 6], [7, 8, 9]])\n",
    "print(arr[1, 2])"
   ]
  },
  {
   "cell_type": "code",
   "execution_count": 23,
   "id": "a33bbc12-6acc-4aae-9309-c83a70410de1",
   "metadata": {},
   "outputs": [
    {
     "name": "stdout",
     "output_type": "stream",
     "text": [
      "[15 16 17 18 19 20]\n"
     ]
    }
   ],
   "source": [
    "# Question 3\n",
    "# Create a 1-dimensional NumPy array with values from 10 to 20. Slice the array to get a sub-array\n",
    "# with the last 5 elements and print it.\n",
    "\n",
    "import numpy as np \n",
    "\n",
    "arr = np.array([10, 11, 12, 13, 14, 15, 16, 17, 18, 19, 20])\n",
    "print(arr[5 : 11])\n"
   ]
  },
  {
   "cell_type": "code",
   "execution_count": 29,
   "id": "253f4960-90e4-4e11-978a-a636ac4f6e62",
   "metadata": {},
   "outputs": [
    {
     "name": "stdout",
     "output_type": "stream",
     "text": [
      "9\n"
     ]
    }
   ],
   "source": [
    "# Question 4\n",
    "# Create a 3-dimensional NumPy array with shape (2, 2, 3) containing consecutive numbers starting from 1. Access and print the element in \n",
    "# the second block, first row, and third column.\n",
    "\n",
    "\n",
    "import numpy as np \n",
    "\n",
    "arr = np.array([[[1, 2, 3], [4, 5, 6]], [[7, 8, 9], [10, 11, 12]]])\n",
    "print(arr[1, 0, 2])\n",
    "\n",
    "\n"
   ]
  },
  {
   "cell_type": "code",
   "execution_count": 31,
   "id": "95a34b6a-bae8-4acf-a7de-e6139c4c100f",
   "metadata": {},
   "outputs": [],
   "source": [
    "# Question 5\n",
    "# Create a 1-dimensional NumPy array with random integers between 1 and 100 of length 15. \n",
    "# Find and print the maximum value in the array.\n",
    "    \n",
    "import numpy as np\n",
    "\n",
    "arr = np.random.randint(1, 101,15)\n",
    "max_val = np.max(arr)\n",
    "print(max_val)"
   ]
  },
  {
   "cell_type": "code",
   "execution_count": 34,
   "id": "5e941bf8-1e2b-477a-a0ea-22796c14fd5a",
   "metadata": {},
   "outputs": [
    {
     "name": "stdout",
     "output_type": "stream",
     "text": [
      "136\n"
     ]
    }
   ],
   "source": [
    "# Question 6\n",
    "# Create a 2-dimensional NumPy array with shape (4, 4) containing values from 1 to 16. Calculate and print \n",
    "# the sum of all elements in the array.\n",
    "\n",
    "import numpy as np\n",
    "\n",
    "arr = np.array([[1, 2, 3, 4], [5, 6, 7, 8], [9, 10, 11, 12], [13, 14, 15, 16]])\n",
    "sum1 = np.sum(arr)\n",
    "print(sum1)\n"
   ]
  },
  {
   "cell_type": "code",
   "execution_count": 42,
   "id": "9ebd4b27-0453-485a-8d3d-d93c9e629008",
   "metadata": {},
   "outputs": [
    {
     "name": "stdout",
     "output_type": "stream",
     "text": [
      "[3 6 7 6 8 8 8]\n"
     ]
    }
   ],
   "source": [
    "# Create a 2D NumPy array with shape (3, 4) filled with random integers between 1 and 10.\n",
    "\n",
    "import numpy as np\n",
    "arr = np.random.randint(1, 11, 7)\n",
    "print(arr)"
   ]
  },
  {
   "cell_type": "code",
   "execution_count": 1,
   "id": "6c07f8b7-753c-410c-8574-0fa3301e93d6",
   "metadata": {},
   "outputs": [
    {
     "name": "stdout",
     "output_type": "stream",
     "text": [
      "5\n"
     ]
    }
   ],
   "source": [
    "# Create a 2D NumPy array with shape (3, 4) filled with random integers between 1 and 10.\n",
    "\n",
    "import numpy as np\n",
    "arr = np.array([[\n",
    "    [1, 2, 3], \n",
    "    [4, 5, 6],\n",
    "    [7, 8, 9]\n",
    "]])\n",
    "print(arr[0, 1, 1])"
   ]
  },
  {
   "cell_type": "code",
   "execution_count": 2,
   "id": "66fe6128-57a5-4e80-a866-cd877f82374c",
   "metadata": {},
   "outputs": [
    {
     "name": "stdout",
     "output_type": "stream",
     "text": [
      "[4 5 6]\n"
     ]
    }
   ],
   "source": [
    "# Create a 2D NumPy array with shape (3, 4) filled with random integers between 1 and 10.\n",
    "\n",
    "import numpy as np\n",
    "arr = np.array([[\n",
    "    [[1, 2, 3], [4, 5, 6]],\n",
    "    [[7, 8, 9], [10, 11, 12]]\n",
    "]])\n",
    "print(arr[0, 0, 1])"
   ]
  },
  {
   "cell_type": "code",
   "execution_count": 6,
   "id": "a51d7468-6b71-4a92-b712-b48470032155",
   "metadata": {},
   "outputs": [
    {
     "name": "stdout",
     "output_type": "stream",
     "text": [
      "6\n"
     ]
    }
   ],
   "source": [
    "# Extract the element at the second row and third column.\n",
    "\n",
    "import numpy as np\n",
    "\n",
    "array_2d = np.array([[1, 2, 3],\n",
    "                     [4, 5, 6],\n",
    "                     [7, 8, 9]])\n",
    "print(array_2d[1, 2])"
   ]
  },
  {
   "cell_type": "code",
   "execution_count": 9,
   "id": "f1018529-d285-45d4-a9d3-2ee85255fda1",
   "metadata": {},
   "outputs": [
    {
     "name": "stdout",
     "output_type": "stream",
     "text": [
      "45\n"
     ]
    }
   ],
   "source": [
    "# Calculate the sum of all the elements in the array.\n",
    "\n",
    "import numpy as np\n",
    "\n",
    "array_2d = np.array([[1, 2, 3],\n",
    "                     [4, 5, 6],\n",
    "                     [7, 8, 9]])\n",
    "add = np.sum(array_2d)\n",
    "print(add)"
   ]
  },
  {
   "cell_type": "code",
   "execution_count": 16,
   "id": "2d83b6ec-6158-4e51-ac37-0429dbbdeff0",
   "metadata": {},
   "outputs": [
    {
     "name": "stdout",
     "output_type": "stream",
     "text": [
      "[2 5 8]\n",
      "[4]\n"
     ]
    }
   ],
   "source": [
    "# Extract the second column of the array.\n",
    "import numpy as np\n",
    "\n",
    "array_2d = np.array([[1, 2, 3],\n",
    "                     [4, 5, 6],\n",
    "                     [7, 8, 9]])\n",
    "second_column = array_2d[:, 1]\n",
    "second_row = array_2d[1, :1]\n",
    "print(second_column)\n",
    "print(second_row)\n"
   ]
  },
  {
   "cell_type": "code",
   "execution_count": 17,
   "id": "b4c7dc60-c851-4036-bb52-38f3a9f1abae",
   "metadata": {},
   "outputs": [
    {
     "name": "stdout",
     "output_type": "stream",
     "text": [
      "9\n"
     ]
    }
   ],
   "source": [
    "# Extract the element at the second block, first row, and third column.\n",
    "import numpy as np\n",
    "\n",
    "array_3d = np.array([\n",
    "    [[1, 2, 3],[4, 5, 6]],\n",
    "    [[7, 8, 9],[10, 11, 12]]\n",
    "])\n",
    "print(array_3d[1, 0, 2])"
   ]
  },
  {
   "cell_type": "code",
   "execution_count": 18,
   "id": "eb15af74-e135-46da-9b9c-f49ef0d60eda",
   "metadata": {},
   "outputs": [
    {
     "name": "stdout",
     "output_type": "stream",
     "text": [
      "78\n"
     ]
    }
   ],
   "source": [
    "# Calculate the sum of all the elements in the array.\n",
    "import numpy as np\n",
    "\n",
    "array_3d = np.array([\n",
    "    [[1, 2, 3],[4, 5, 6]],\n",
    "    [[7, 8, 9],[10, 11, 12]]\n",
    "])\n",
    "print(np.sum(array_3d))\n"
   ]
  },
  {
   "cell_type": "code",
   "execution_count": 21,
   "id": "dafcb1d3-a6ff-40d6-a063-d8a042b92d15",
   "metadata": {},
   "outputs": [
    {
     "name": "stdout",
     "output_type": "stream",
     "text": [
      "[4 5 6]\n"
     ]
    }
   ],
   "source": [
    "# Extract the second row of the first block.\n",
    "import numpy as np\n",
    "\n",
    "array_3d = np.array([\n",
    "    [[1, 2, 3],[4, 5, 6]],\n",
    "    [[7, 8, 9],[10, 11, 12]]\n",
    "])\n",
    "print(array_3d[0, 1, :])"
   ]
  },
  {
   "cell_type": "code",
   "execution_count": 24,
   "id": "bd21a4c6-1cd4-4416-b47b-394416ff7296",
   "metadata": {},
   "outputs": [
    {
     "name": "stdout",
     "output_type": "stream",
     "text": [
      "[70 80 90]\n"
     ]
    }
   ],
   "source": [
    "# Extract all the elements in the last row.\n",
    "\n",
    "import numpy as np\n",
    "\n",
    "array_2d = np.array([[10, 20, 30],\n",
    "                     [40, 50, 60],\n",
    "                     [70, 80, 90]])\n",
    "print(array_2d[2, : ])\n"
   ]
  },
  {
   "cell_type": "code",
   "execution_count": 34,
   "id": "d25522f7-9633-4d0e-b654-b339d7d00982",
   "metadata": {},
   "outputs": [
    {
     "name": "stdout",
     "output_type": "stream",
     "text": [
      "[[ 10 100  30]\n",
      " [ 40 100  60]\n",
      " [ 70 100  90]]\n"
     ]
    }
   ],
   "source": [
    "# Replace all the elements in the second column with 100.\n",
    "\n",
    "import numpy as np\n",
    "\n",
    "array_2d = np.array([[10, 20, 30],\n",
    "                     [40, 50, 60],\n",
    "                     [70, 80, 90]])\n",
    "\n",
    "second_column = array_2d[ :, 1]\n",
    "for x in range(3):\n",
    "    second_column[x] = 100\n",
    "\n",
    "print(array_2d)\n",
    "\n"
   ]
  },
  {
   "cell_type": "code",
   "execution_count": 39,
   "id": "4bc96450-da4d-4332-a32a-cfe1068fa0db",
   "metadata": {},
   "outputs": [
    {
     "name": "stdout",
     "output_type": "stream",
     "text": [
      "[20. 50. 80.]\n"
     ]
    }
   ],
   "source": [
    "# Compute the mean of each row.?\n",
    "import numpy as np\n",
    "\n",
    "array_2d = np.array([[10, 20, 30],\n",
    "                     [40, 50, 60],\n",
    "                     [70, 80, 90]])\n",
    "\n",
    "row_means = np.mean(array_2d, axis=1)\n",
    "print(row_means)\n",
    "\n"
   ]
  },
  {
   "cell_type": "code",
   "execution_count": 40,
   "id": "5980e7d7-8994-4f36-9804-76e47710d4ac",
   "metadata": {},
   "outputs": [
    {
     "name": "stdout",
     "output_type": "stream",
     "text": [
      "16\n"
     ]
    }
   ],
   "source": [
    "# Extract the element at the third block, second row, and first column.\n",
    "\n",
    "import numpy as np\n",
    "\n",
    "array_3d = np.array([\n",
    "    [[1, 2, 3], [4, 5, 6]],\n",
    "    [[7, 8, 9], [10, 11, 12]],\n",
    "    [[13, 14, 15], [16, 17, 18]]\n",
    "])\n",
    "print(array_3d[2, 1, 0])\n"
   ]
  },
  {
   "cell_type": "code",
   "execution_count": 42,
   "id": "e0124be1-2a1f-48cb-a4f1-319248921880",
   "metadata": {},
   "outputs": [
    {
     "name": "stdout",
     "output_type": "stream",
     "text": [
      "21\n",
      "57\n",
      "93\n"
     ]
    }
   ],
   "source": [
    "# Calculate the sum of elements for each block.\n",
    "\n",
    "import numpy as np\n",
    "\n",
    "array_3d = np.array([\n",
    "    [[1, 2, 3], [4, 5, 6]],\n",
    "    [[7, 8, 9], [10, 11, 12]],\n",
    "    [[13, 14, 15], [16, 17, 18]]\n",
    "])\n",
    "\n",
    "for block in array_3d:\n",
    "    print(np.sum(block))"
   ]
  },
  {
   "cell_type": "code",
   "execution_count": 45,
   "id": "188a32bb-17a3-4900-8ff2-9cda25ac9925",
   "metadata": {},
   "outputs": [
    {
     "name": "stdout",
     "output_type": "stream",
     "text": [
      "[[ 4  5  6]\n",
      " [10 11 12]\n",
      " [16 17 18]]\n"
     ]
    }
   ],
   "source": [
    "# Extract all elements from the second row of all blocks.\n",
    "\n",
    "import numpy as np\n",
    "\n",
    "array_3d = np.array([\n",
    "    [[1, 2, 3], [4, 5, 6]],\n",
    "    [[7, 8, 9], [10, 11, 12]],\n",
    "    [[13, 14, 15], [16, 17, 18]]\n",
    "])\n",
    "\n",
    "print(array_3d[:, 1, :])"
   ]
  },
  {
   "cell_type": "code",
   "execution_count": 46,
   "id": "a90c979e-07a9-408c-b700-9b3a08d5699d",
   "metadata": {},
   "outputs": [
    {
     "name": "stdout",
     "output_type": "stream",
     "text": [
      "1\n",
      "2\n",
      "3\n",
      "4\n",
      "5\n",
      "6\n",
      "7\n",
      "8\n"
     ]
    }
   ],
   "source": [
    "import numpy as np\n",
    "\n",
    "arr = np.array([[[1, 2], [3, 4]], [[5, 6], [7, 8]]])\n",
    "\n",
    "for x in np.nditer(arr):\n",
    "  print(x)\n",
    "    "
   ]
  },
  {
   "cell_type": "code",
   "execution_count": null,
   "id": "84571b18-6f6c-45ee-9742-35ea22fe7b40",
   "metadata": {},
   "outputs": [],
   "source": []
  }
 ],
 "metadata": {
  "kernelspec": {
   "display_name": "Python 3 (ipykernel)",
   "language": "python",
   "name": "python3"
  },
  "language_info": {
   "codemirror_mode": {
    "name": "ipython",
    "version": 3
   },
   "file_extension": ".py",
   "mimetype": "text/x-python",
   "name": "python",
   "nbconvert_exporter": "python",
   "pygments_lexer": "ipython3",
   "version": "3.8.10"
  }
 },
 "nbformat": 4,
 "nbformat_minor": 5
}
