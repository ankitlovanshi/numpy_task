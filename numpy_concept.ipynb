{
 "cells": [
  {
   "cell_type": "code",
   "execution_count": null,
   "id": "847143f4-66cd-4bc6-b964-c01fe04a5b9e",
   "metadata": {},
   "outputs": [],
   "source": [
    "import numpy as np\n",
    "arr = np.array([1, 2, 3, 4, 5])\n",
    "\n",
    "# iterate 1D array\n",
    "for item in arr:\n",
    "    print(item)\n",
    "    "
   ]
  },
  {
   "cell_type": "code",
   "execution_count": 2,
   "id": "eaada7fa-6e98-4b52-8975-eb243d230afd",
   "metadata": {},
   "outputs": [
    {
     "name": "stdout",
     "output_type": "stream",
     "text": [
      "[1 2 3]\n",
      "[4 5 6]\n",
      "[7 8 9]\n"
     ]
    }
   ],
   "source": [
    "import numpy as np\n",
    "arr = np.array([[1, 2, 3], [4, 5, 6], [7, 8, 9]])\n",
    "\n",
    "# iterate 2D array\n",
    "for item in arr:\n",
    "    print(item)\n",
    "    "
   ]
  },
  {
   "cell_type": "code",
   "execution_count": 12,
   "id": "6fac5dd7-450d-496a-93c6-f8108e69c384",
   "metadata": {},
   "outputs": [
    {
     "name": "stdout",
     "output_type": "stream",
     "text": [
      "row 0\n",
      "column 0 == 1\n",
      "column 1 == 2\n",
      "column 2 == 3\n",
      "\n",
      "row 1\n",
      "column 0 == 4\n",
      "column 1 == 5\n",
      "column 2 == 6\n",
      "\n",
      "row 2\n",
      "column 0 == 7\n",
      "column 1 == 8\n",
      "column 2 == 9\n",
      "\n"
     ]
    }
   ],
   "source": [
    "import numpy as np\n",
    "arr = np.array([[1, 2, 3], [4, 5, 6], [7, 8, 9]])\n",
    "\n",
    "# iterate 2D array with single element\n",
    "for i in range(len(arr)):\n",
    "    print(\"row\", i)\n",
    "    for j in range(len(arr[i])):\n",
    "        print(\"column\", j, \"==\", arr[i, j])\n",
    "    print(\"\")\n",
    "    "
   ]
  },
  {
   "cell_type": "code",
   "execution_count": 25,
   "id": "508d4eed-6f2c-4753-bdf0-a832895d1f37",
   "metadata": {},
   "outputs": [
    {
     "name": "stdout",
     "output_type": "stream",
     "text": [
      "block [[1 2 3]\n",
      " [4 5 6]]\n",
      "\n",
      "inner arr [1 2 3]\n",
      "inner arr [4 5 6]\n",
      "------------------------\n",
      "block [[ 7  8  9]\n",
      " [11 12 13]]\n",
      "\n",
      "inner arr [7 8 9]\n",
      "inner arr [11 12 13]\n",
      "------------------------\n"
     ]
    }
   ],
   "source": [
    "import numpy as np\n",
    "arr = np.array([\n",
    "    [[1, 2, 3], [4, 5, 6]], \n",
    "    [[7, 8, 9], [11, 12, 13]]\n",
    "])\n",
    "\n",
    "# iterate 3D array with single element\n",
    "for block in arr:\n",
    "    print(\"block\", block)\n",
    "    print(\"\")\n",
    "    for inner_arr in block:\n",
    "        print(\"inner arr\",inner_arr)\n",
    "    \n",
    "    print(\"------------------------\")\n",
    "        \n",
    "        "
   ]
  },
  {
   "cell_type": "code",
   "execution_count": 14,
   "id": "1b88b678-7526-4c06-89a3-d8b9329f520a",
   "metadata": {},
   "outputs": [
    {
     "name": "stdout",
     "output_type": "stream",
     "text": [
      "row 0\n",
      "column 0 == [1 2 3]\n",
      "column 1 == [4 5 6]\n",
      "\n",
      "row 1\n",
      "column 0 == [7 8 9]\n",
      "column 1 == [11 12 13]\n",
      "\n"
     ]
    }
   ],
   "source": [
    "import numpy as np\n",
    "arr = np.array([\n",
    "    [[1, 2, 3], \n",
    "     [4, 5, 6]], \n",
    "    [[7, 8, 9], \n",
    "     [11, 12, 13]]\n",
    "])\n",
    "\n",
    "# iterate 2D array with single element\n",
    "for i in range(len(arr)):\n",
    "    print(\"row\", i)\n",
    "    for j in range(len(arr[i])):\n",
    "        print(\"column\", j, \"==\", arr[i, j])\n",
    "    print(\"\")\n",
    "    "
   ]
  },
  {
   "cell_type": "code",
   "execution_count": 34,
   "id": "fa11315e-71e2-4076-875e-c1086039ad1f",
   "metadata": {},
   "outputs": [
    {
     "name": "stdout",
     "output_type": "stream",
     "text": [
      "block 0 [[1 2 3]\n",
      " [4 5 6]]\n",
      "\n",
      "Inner Array 0 [1 2 3]\n",
      "0 = 1\n",
      "1 = 2\n",
      "2 = 3\n",
      "********************\n",
      "Inner Array 1 [4 5 6]\n",
      "0 = 4\n",
      "1 = 5\n",
      "2 = 6\n",
      "********************\n",
      "------------------------\n",
      "block 1 [[ 7  8  9]\n",
      " [11 12 13]]\n",
      "\n",
      "Inner Array 0 [7 8 9]\n",
      "0 = 7\n",
      "1 = 8\n",
      "2 = 9\n",
      "********************\n",
      "Inner Array 1 [11 12 13]\n",
      "0 = 11\n",
      "1 = 12\n",
      "2 = 13\n",
      "********************\n",
      "------------------------\n"
     ]
    }
   ],
   "source": [
    "import numpy as np\n",
    "arr = np.array([\n",
    "    [[1, 2, 3], [4, 5, 6]], \n",
    "    [[7, 8, 9], [11, 12, 13]]\n",
    "])\n",
    "\n",
    "# iterate 3D array with single element\n",
    "for index1, block in enumerate(arr):\n",
    "    print(\"block\", index1, block)\n",
    "    print(\"\")\n",
    "    for index2, inner_arr in enumerate(block):\n",
    "        print(\"Inner Array\", index2, inner_arr)\n",
    "\n",
    "        for index3, inner_arr_in_inner in enumerate(inner_arr):\n",
    "            print(index3, \"=\", inner_arr_in_inner)\n",
    "            \n",
    "        print(\"********************\")\n",
    "    \n",
    "    print(\"------------------------\")\n",
    "        \n",
    "        "
   ]
  },
  {
   "cell_type": "code",
   "execution_count": 35,
   "id": "a519241a-9288-4dd4-bb35-b5084c495a17",
   "metadata": {},
   "outputs": [
    {
     "name": "stdout",
     "output_type": "stream",
     "text": [
      "1\n",
      "2\n",
      "3\n",
      "4\n",
      "5\n",
      "6\n",
      "7\n",
      "8\n"
     ]
    }
   ],
   "source": [
    "import numpy as np\n",
    "\n",
    "arr = np.array([[[1, 2], [3, 4]], [[5, 6], [7, 8]]])\n",
    "\n",
    "for x in np.nditer(arr):\n",
    "  print(x)"
   ]
  },
  {
   "cell_type": "code",
   "execution_count": 36,
   "id": "fef739c4-c10c-4a62-a00c-b319addb6f59",
   "metadata": {},
   "outputs": [
    {
     "name": "stdout",
     "output_type": "stream",
     "text": [
      "b'1'\n",
      "b'2'\n",
      "b'3'\n"
     ]
    }
   ],
   "source": [
    "import numpy as np\n",
    "\n",
    "arr = np.array([1, 2, 3])\n",
    "\n",
    "for x in np.nditer(arr, flags=['buffered'], op_dtypes=['S']):\n",
    "  print(x)"
   ]
  },
  {
   "cell_type": "code",
   "execution_count": 37,
   "id": "41b079b1-3ee6-457f-b5d1-6f1a4f8287b8",
   "metadata": {},
   "outputs": [
    {
     "name": "stdout",
     "output_type": "stream",
     "text": [
      "1\n",
      "3\n",
      "5\n",
      "7\n"
     ]
    }
   ],
   "source": [
    "import numpy as np\n",
    "\n",
    "arr = np.array([[1, 2, 3, 4], [5, 6, 7, 8]])\n",
    "\n",
    "for x in np.nditer(arr[:, ::2]):\n",
    "  print(x)\n",
    "  "
   ]
  }
 ],
 "metadata": {
  "kernelspec": {
   "display_name": "Python 3 (ipykernel)",
   "language": "python",
   "name": "python3"
  },
  "language_info": {
   "codemirror_mode": {
    "name": "ipython",
    "version": 3
   },
   "file_extension": ".py",
   "mimetype": "text/x-python",
   "name": "python",
   "nbconvert_exporter": "python",
   "pygments_lexer": "ipython3",
   "version": "3.8.10"
  }
 },
 "nbformat": 4,
 "nbformat_minor": 5
}
