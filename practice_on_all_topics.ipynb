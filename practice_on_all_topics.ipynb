{
 "cells": [
  {
   "cell_type": "code",
   "execution_count": 1,
   "id": "a9ac7054-50f5-4a0d-ad70-ca5ee4b63c8b",
   "metadata": {},
   "outputs": [
    {
     "name": "stdout",
     "output_type": "stream",
     "text": [
      "[0 1 2 3 4 5 6 7 8 9]\n"
     ]
    }
   ],
   "source": [
    "# 1. Create a NumPy array:\n",
    "# Create a 1D NumPy array with elements from 0 to 9.\n",
    "import numpy as np\n",
    "\n",
    "arr1 = np.arange(10)\n",
    "print(arr1)"
   ]
  },
  {
   "cell_type": "code",
   "execution_count": 2,
   "id": "87e1104a-437a-44f5-acaf-46e3c60be381",
   "metadata": {},
   "outputs": [
    {
     "name": "stdout",
     "output_type": "stream",
     "text": [
      "30\n"
     ]
    }
   ],
   "source": [
    "# 2. Array Indexing:\n",
    "# Given the array arr = np.array([10, 20, 30, 40, 50]), extract the third element.\n",
    "\n",
    "arr = np.array([10, 20, 30, 40, 50])\n",
    "print(arr[2])"
   ]
  },
  {
   "cell_type": "code",
   "execution_count": 3,
   "id": "39cff646-f8ce-4aad-8539-96faa2ff7a9b",
   "metadata": {},
   "outputs": [
    {
     "name": "stdout",
     "output_type": "stream",
     "text": [
      "[0 1 2 3 4]\n"
     ]
    }
   ],
   "source": [
    "# 3. Array Slicing:\n",
    "# Given the array arr = np.arange(10), extract the sub-array consisting of the first 5 elements.\n",
    "\n",
    "arr = np.arange(10)\n",
    "print(arr[:5])"
   ]
  },
  {
   "cell_type": "code",
   "execution_count": 4,
   "id": "b7a2a42b-a5d7-4d98-97b0-68db2287780b",
   "metadata": {},
   "outputs": [],
   "source": [
    "# 4. Basic Operations:\n",
    "# Create two 1D arrays a and b with elements [1, 2, 3] and [4, 5, 6] respectively. Perform element-wise\\\n",
    "# addition, subtraction, multiplication, and division.\n",
    "a = np.array([1, 2, 3])\n",
    "b = np.array([4, 5, 6])"
   ]
  },
  {
   "cell_type": "code",
   "execution_count": 5,
   "id": "da4adb40-2695-4d0d-aca6-13b550daf1d7",
   "metadata": {},
   "outputs": [
    {
     "name": "stdout",
     "output_type": "stream",
     "text": [
      "[5 7 9]\n"
     ]
    }
   ],
   "source": [
    "# addition\n",
    "print(a + b)"
   ]
  },
  {
   "cell_type": "code",
   "execution_count": 6,
   "id": "272dac9d-461f-478f-a18b-6ca81d8fe0bd",
   "metadata": {},
   "outputs": [
    {
     "name": "stdout",
     "output_type": "stream",
     "text": [
      "[-3 -3 -3]\n"
     ]
    }
   ],
   "source": [
    "# subtraction\n",
    "print(a - b)"
   ]
  },
  {
   "cell_type": "code",
   "execution_count": 7,
   "id": "abfae6c8-f075-4527-9bb6-746f4497c01b",
   "metadata": {},
   "outputs": [
    {
     "name": "stdout",
     "output_type": "stream",
     "text": [
      "[ 4 10 18]\n"
     ]
    }
   ],
   "source": [
    "# multiplication\n",
    "print(a * b)"
   ]
  },
  {
   "cell_type": "code",
   "execution_count": 8,
   "id": "3956ab09-3f4a-4ded-b1c9-ab06fad8cdf6",
   "metadata": {},
   "outputs": [
    {
     "name": "stdout",
     "output_type": "stream",
     "text": [
      "[0.25 0.4  0.5 ]\n"
     ]
    }
   ],
   "source": [
    "# division\n",
    "print(a / b)"
   ]
  },
  {
   "cell_type": "code",
   "execution_count": 9,
   "id": "f7689a03-ebd7-4a0e-a3ee-abd1a07f13c5",
   "metadata": {},
   "outputs": [
    {
     "data": {
      "text/plain": [
       "array([[ 0,  1,  2,  3],\n",
       "       [ 4,  5,  6,  7],\n",
       "       [ 8,  9, 10, 11]])"
      ]
     },
     "execution_count": 9,
     "metadata": {},
     "output_type": "execute_result"
    }
   ],
   "source": [
    "# 5. Array Reshaping:\n",
    "# Given the array arr = np.arange(12), reshape it into a 3x4 matrix.\n",
    "\n",
    "arr = np.arange(12)\n",
    "arr.reshape((3, 4))"
   ]
  },
  {
   "cell_type": "code",
   "execution_count": 10,
   "id": "9804361a-e82f-4d3e-9989-1f6d5f77b69a",
   "metadata": {},
   "outputs": [],
   "source": [
    "# Given two 2D arrays A and B:\n",
    "\n",
    "A = np.array([[1, 2],\n",
    "              [3, 4]])\n",
    "B = np.array([[5, 6],\n",
    "              [7, 8]])"
   ]
  },
  {
   "cell_type": "code",
   "execution_count": 32,
   "id": "075c2fbe-365b-4aef-ab3f-192dabbd1f6c",
   "metadata": {},
   "outputs": [
    {
     "name": "stdout",
     "output_type": "stream",
     "text": [
      "[[19 22]\n",
      " [43 50]]\n"
     ]
    }
   ],
   "source": [
    "# 6. Matrix Multiplication:\n",
    "print(A @ B)"
   ]
  },
  {
   "cell_type": "code",
   "execution_count": 19,
   "id": "2478f4ab-7aeb-41b9-92b7-21152dc3845e",
   "metadata": {},
   "outputs": [
    {
     "name": "stdout",
     "output_type": "stream",
     "text": [
      "[False False False  True  True]\n"
     ]
    }
   ],
   "source": [
    "# 7. Boolean Masking:\n",
    "# Given the array arr = np.array([10, 15, 20, 25, 30]), create a boolean mask to extract elements greater than 20.\n",
    "\n",
    "arr = np.array([10, 15, 20, 25, 30])\n",
    "mask = arr > 20\n",
    "print(mask)"
   ]
  },
  {
   "cell_type": "code",
   "execution_count": 20,
   "id": "7c28595d-ce34-4e48-8437-1568d088a20a",
   "metadata": {},
   "outputs": [],
   "source": [
    "# 8. Statistical Operations:\n",
    "# Given the array arr = np.array([[1, 2, 3], [4, 5, 6], [7, 8, 9]]), compute the mean, median, and standard deviation.\n",
    "\n",
    "arr = np.array([[1, 2, 3], [4, 5, 6], [7, 8, 9]])\n",
    "\n",
    "\n",
    "\n",
    "# skip"
   ]
  },
  {
   "cell_type": "code",
   "execution_count": 21,
   "id": "b459f362-3d4f-42e7-8d20-798b948123d9",
   "metadata": {},
   "outputs": [],
   "source": [
    "# 9. Stacking Arrays:\n",
    "# Given two 1D arrays a = np.array([1, 2, 3]) and b = np.array([4, 5, 6]), stack them vertically and horizontally.\n",
    "\n",
    "a = np.array([1, 2, 3])\n",
    "b = np.array([4, 5, 6])"
   ]
  },
  {
   "cell_type": "code",
   "execution_count": 23,
   "id": "e38aebb4-059c-4e07-96f9-8bb48f4ad53f",
   "metadata": {},
   "outputs": [
    {
     "name": "stdout",
     "output_type": "stream",
     "text": [
      "[[1 2 3]\n",
      " [4 5 6]]\n"
     ]
    }
   ],
   "source": [
    " # stack vertically\n",
    "arr = np.vstack((a, b))\n",
    "print(arr)"
   ]
  },
  {
   "cell_type": "code",
   "execution_count": 24,
   "id": "bc139cc1-e1bf-492a-94c9-04694da6175e",
   "metadata": {},
   "outputs": [
    {
     "name": "stdout",
     "output_type": "stream",
     "text": [
      "[1 2 3 4 5 6]\n"
     ]
    }
   ],
   "source": [
    "# stack horizontally\n",
    "arr = np.hstack((a, b))\n",
    "print(arr)"
   ]
  },
  {
   "cell_type": "code",
   "execution_count": 31,
   "id": "8d952a19-311f-4cf3-b6ac-f936bb98681c",
   "metadata": {},
   "outputs": [
    {
     "data": {
      "text/plain": [
       "90"
      ]
     },
     "execution_count": 31,
     "metadata": {},
     "output_type": "execute_result"
    }
   ],
   "source": [
    "# 10. Advanced Indexing:\n",
    "# Given the 2D array arr:\n",
    "# Extract the elements at the positions (0,0), (1,1), and (2,2).\n",
    "\n",
    "arr = np.array([[10, 20, 30],\n",
    "                [40, 50, 60],\n",
    "                [70, 80, 90]])"
   ]
  },
  {
   "cell_type": "code",
   "execution_count": 27,
   "id": "793de0c6-df82-42a5-8616-2eca6309e316",
   "metadata": {},
   "outputs": [
    {
     "data": {
      "text/plain": [
       "10"
      ]
     },
     "execution_count": 27,
     "metadata": {},
     "output_type": "execute_result"
    }
   ],
   "source": [
    "# (0,0)\n",
    "arr[0, 0]"
   ]
  },
  {
   "cell_type": "code",
   "execution_count": 28,
   "id": "5c133aaa-22a2-4770-9551-a1427c508240",
   "metadata": {},
   "outputs": [
    {
     "data": {
      "text/plain": [
       "50"
      ]
     },
     "execution_count": 28,
     "metadata": {},
     "output_type": "execute_result"
    }
   ],
   "source": [
    "# (1,1)\n",
    "\n",
    "arr[1, 1]"
   ]
  },
  {
   "cell_type": "code",
   "execution_count": 29,
   "id": "c8a00c4e-a24c-4038-b1c6-b8c154caeec5",
   "metadata": {},
   "outputs": [
    {
     "data": {
      "text/plain": [
       "90"
      ]
     },
     "execution_count": 29,
     "metadata": {},
     "output_type": "execute_result"
    }
   ],
   "source": [
    "# (2,2)\n",
    "arr[2, 2]"
   ]
  },
  {
   "cell_type": "code",
   "execution_count": 36,
   "id": "60cbfacb-43a4-4dfe-91db-9b16f763ae66",
   "metadata": {},
   "outputs": [
    {
     "name": "stdout",
     "output_type": "stream",
     "text": [
      "[[6 8 5]\n",
      " [8 7 4]\n",
      " [6 1 3]]\n"
     ]
    }
   ],
   "source": [
    "# 11. Array Creation:\n",
    "# Create a 2D NumPy array of shape (3, 3) with random integers between 0 and 9.\n",
    "\n",
    "arr = np.random.randint(0, 9, size = (3, 3))\n",
    "print(arr)"
   ]
  },
  {
   "cell_type": "code",
   "execution_count": 44,
   "id": "c5c145e9-15f6-41f8-a86a-9ebf09fea75e",
   "metadata": {},
   "outputs": [
    {
     "name": "stdout",
     "output_type": "stream",
     "text": [
      "(3, 3)\n"
     ]
    }
   ],
   "source": [
    "# 12. Array Broadcasting:\n",
    "# Given a 1D array a = np.array([1, 2, 3]), add a scalar value 5 to each element using broadcasting.\n",
    "# a = np.array([1, 2, 3])\n",
    "print(np.shape(arr))"
   ]
  },
  {
   "cell_type": "code",
   "execution_count": null,
   "id": "b97154ee-daea-4eae-94a2-ac8f393c6a47",
   "metadata": {},
   "outputs": [],
   "source": []
  }
 ],
 "metadata": {
  "kernelspec": {
   "display_name": "Python 3 (ipykernel)",
   "language": "python",
   "name": "python3"
  },
  "language_info": {
   "codemirror_mode": {
    "name": "ipython",
    "version": 3
   },
   "file_extension": ".py",
   "mimetype": "text/x-python",
   "name": "python",
   "nbconvert_exporter": "python",
   "pygments_lexer": "ipython3",
   "version": "3.8.10"
  }
 },
 "nbformat": 4,
 "nbformat_minor": 5
}
