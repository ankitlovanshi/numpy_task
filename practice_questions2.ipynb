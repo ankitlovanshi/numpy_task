{
 "cells": [
  {
   "cell_type": "code",
   "execution_count": 6,
   "id": "2a57ed3d-3332-4e66-a1d0-dd982ad304fa",
   "metadata": {},
   "outputs": [
    {
     "name": "stdout",
     "output_type": "stream",
     "text": [
      "[0 1 2 3 4 5 6 7 8 9]\n"
     ]
    }
   ],
   "source": [
    "# Create a 1D array with numbers from 0 to 9.\n",
    "\n",
    "import numpy as np\n",
    "arr = np.arange(10)\n",
    "print(arr)"
   ]
  },
  {
   "cell_type": "code",
   "execution_count": 5,
   "id": "0d31535b-d388-4b7c-851c-eece769ee235",
   "metadata": {},
   "outputs": [
    {
     "name": "stdout",
     "output_type": "stream",
     "text": [
      "[[0 1 2]\n",
      " [3 4 5]\n",
      " [6 7 8]]\n"
     ]
    }
   ],
   "source": [
    "# Create a 2D array with shape (3, 3) filled with zeros.\n",
    "\n",
    "import numpy as np\n",
    "\n",
    "arr_2d = np.zeros((3, 3))\n",
    "print(arr_2d)"
   ]
  },
  {
   "cell_type": "code",
   "execution_count": 9,
   "id": "2108b791-ddc5-4d00-8077-bb5c1bd1ea21",
   "metadata": {},
   "outputs": [
    {
     "name": "stdout",
     "output_type": "stream",
     "text": [
      "[[1. 1. 1. 1.]\n",
      " [1. 1. 1. 1.]\n",
      " [1. 1. 1. 1.]\n",
      " [1. 1. 1. 1.]]\n"
     ]
    }
   ],
   "source": [
    "#Create a 2D array with shape (4, 4) filled with ones.\n",
    "\n",
    "arr_2d = np.ones((4, 4))\n",
    "print(arr_2d)"
   ]
  },
  {
   "cell_type": "code",
   "execution_count": 10,
   "id": "13de7c72-2956-4500-a230-fc2b9b593a42",
   "metadata": {},
   "outputs": [
    {
     "name": "stdout",
     "output_type": "stream",
     "text": [
      "[10 11 12 13 14 15 16 17 18 19 20]\n"
     ]
    }
   ],
   "source": [
    "# Create an array with numbers from 10 to 20.\n",
    "\n",
    "import numpy as np\n",
    "arr = np.arange(10, 21)\n",
    "print(arr)"
   ]
  },
  {
   "cell_type": "code",
   "execution_count": 12,
   "id": "dbba7e71-f41a-44c7-8f28-5105b1258239",
   "metadata": {},
   "outputs": [],
   "source": [
    "# Create an array of 5 evenly spaced values between 0 and 1.\n",
    "\n",
    "\n",
    "\n",
    "\n",
    "\n",
    "\n",
    "# we have to solve "
   ]
  },
  {
   "cell_type": "code",
   "execution_count": 15,
   "id": "3c4b4940-2e0d-4b37-9a0f-f58ce5568788",
   "metadata": {},
   "outputs": [
    {
     "name": "stdout",
     "output_type": "stream",
     "text": [
      "[ 7 38 76 75 24  1 15 37 23 33]\n"
     ]
    }
   ],
   "source": [
    "# Create a 1D array of 10 random integers between 0 and 100.\n",
    "\n",
    "import numpy as np \n",
    "arr = np.random.randint(0, 101, size=10)\n",
    "print(arr)"
   ]
  },
  {
   "cell_type": "code",
   "execution_count": 19,
   "id": "7506e2f7-49e2-49c9-8636-d9c0216e41cf",
   "metadata": {},
   "outputs": [],
   "source": [
    "# Create a 3x3 identity matrix.\n",
    "\n",
    "import numpy as np \n",
    "\n",
    "\n",
    "\n",
    "# not sumbitted"
   ]
  },
  {
   "cell_type": "code",
   "execution_count": 22,
   "id": "e3a0e603-aca0-4547-bc3b-e70bbe9c4804",
   "metadata": {},
   "outputs": [
    {
     "name": "stdout",
     "output_type": "stream",
     "text": [
      "[0.83599683 0.01435949 0.34270889 0.89882874 0.94456856 0.71567452\n",
      " 0.63916011 0.49718712 0.46562738 0.40771971]\n"
     ]
    }
   ],
   "source": [
    "# Create a 1D array with 10 random floating-point numbers.\n",
    "\n",
    "import numpy as np\n",
    "\n",
    "arr = np.random.random(10)\n",
    "print(arr)"
   ]
  },
  {
   "cell_type": "code",
   "execution_count": null,
   "id": "f1b070a7-1ee9-448e-a24f-150628f2dc82",
   "metadata": {},
   "outputs": [],
   "source": [
    "# Create a 5x5 array with random values and find the maximum value.\n",
    "\n",
    "import numpy as np\n"
   ]
  }
 ],
 "metadata": {
  "kernelspec": {
   "display_name": "Python 3 (ipykernel)",
   "language": "python",
   "name": "python3"
  },
  "language_info": {
   "codemirror_mode": {
    "name": "ipython",
    "version": 3
   },
   "file_extension": ".py",
   "mimetype": "text/x-python",
   "name": "python",
   "nbconvert_exporter": "python",
   "pygments_lexer": "ipython3",
   "version": "3.8.10"
  }
 },
 "nbformat": 4,
 "nbformat_minor": 5
}
